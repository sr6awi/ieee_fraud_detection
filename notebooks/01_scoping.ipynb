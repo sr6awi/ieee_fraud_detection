{
  "nbformat": 4,
  "nbformat_minor": 0,
  "metadata": {
    "colab": {
      "provenance": [],
      "authorship_tag": "ABX9TyOvNNxisd8+oVjPoEG3tCh9",
      "include_colab_link": true
    },
    "kernelspec": {
      "name": "python3",
      "display_name": "Python 3"
    },
    "language_info": {
      "name": "python"
    }
  },
  "cells": [
    {
      "cell_type": "markdown",
      "metadata": {
        "id": "view-in-github",
        "colab_type": "text"
      },
      "source": [
        "<a href=\"https://colab.research.google.com/github/sr6awi/ieee_fraud_detection/blob/main/notebooks/01_scoping.ipynb\" target=\"_parent\"><img src=\"https://colab.research.google.com/assets/colab-badge.svg\" alt=\"Open In Colab\"/></a>"
      ]
    },
    {
      "cell_type": "markdown",
      "source": [
        "# IEEE-CIS Fraud Detection — 01_scoping.ipynb\n",
        "**Phase:** Scoping  \n",
        "**Owner:** Salem Ihsan Abidrabbu  \n",
        "**Last updated:** 2025-09-30 (Asia/Dubai)  \n",
        "\n",
        "> Use this notebook ONLY for scoping decisions. No EDA/modeling here. Keep it crisp and actionable.\n",
        "\n",
        "---\n",
        "\n",
        "## 1) Problem framing\n",
        "**Business context**  \n",
        "- ☑ *Decision supported*: Approve, decline, or send transaction for manual review/OTP.  \n",
        "- ☑ *Primary stakeholders*: Risk & Fraud team (primary), Payments team (integration), Customer support (disputes).  \n",
        "- ☑ *Downstream systems*: Rules engine + case management tool.  \n",
        "- ☑ *Decision latency budget*: <200ms online scoring.  \n",
        "\n",
        "**ML task**  \n",
        "- ☑ *Type*: Supervised binary classification (`isFraud`).  \n",
        "- ☑ *Prediction timing*: Authorization-time (before payment completes).  \n",
        "- ☑ *Decisioning approach*: Probability score [0–1] + threshold bands → high = auto-decline, medium = review/OTP, low = approve.  \n",
        "\n",
        "---\n",
        "\n",
        "## 2) Objectives\n",
        "**Business objectives (KPIs)**  \n",
        "- ☑ Reduce chargeback loss by: **20–30%**.  \n",
        "- ☑ Reduce manual review workload by: **30–40%**.  \n",
        "- ☑ Keep false-positive rate below: **1–2%**.  \n",
        "\n",
        "**ML objectives (offline)**  \n",
        "- ☑ Achieve **PR-AUC ≥ 0.40**, **ROC-AUC ≥ 0.95**.  \n",
        "- ☑ Recall@Top 5% ≥ **80%**.  \n",
        "- ☑ Calibration: **ECE ≤ 0.05**.  \n",
        "\n",
        "---\n",
        "\n",
        "## 3) Success criteria & guardrails\n",
        "- ☑ **Go/No-Go**: If PR-AUC ≥ 0.40 AND latency <200ms.  \n",
        "- ☑ **Fairness/Abuse**: No protected attributes; monitor proxy leakage.  \n",
        "- ☑ **Privacy**: No raw PII in logs; hash/tokenize identifiers.  \n",
        "- ☑ **Observability**: Monitor latency, throughput, error rate, score distribution.  \n",
        "\n"
      ],
      "metadata": {
        "id": "o37jGFeFYQ5o"
      }
    },
    {
      "cell_type": "markdown",
      "source": [
        "## 4) Constraints & risks\n",
        "- **Data imbalance**: Fraud ≈ 3–5% → must use PR-AUC, cost-sensitive metrics, class weights, or resampling.  \n",
        "- **Leakage risk**: Features like `TransactionDT` or identity joins may leak future info. Split carefully by **time/user**.  \n",
        "- **Compute limits**: Running on Colab GPUs (T4/V100) → careful memory handling, chunked data loading.  \n",
        "- **Regulatory**: Some stakeholders may require explainability → add reason codes or interpretable overlays.  \n",
        "- **Operational trade-off**: Threshold tuning affects customer friction (false positives vs missed fraud). Must align with Ops.  "
      ],
      "metadata": {
        "id": "qiJUJGQlTSdb"
      }
    },
    {
      "cell_type": "markdown",
      "source": [
        "## 5) Data sources & access\n",
        "- **Primary dataset**: IEEE-CIS Fraud Detection (train/test CSVs).  \n",
        "- **Local/Colab path**: `/content/data/ieee/` (adjust if needed).  \n",
        "- **Storage plan**: Keep raw read-only; save processed under `/content/data/ieee/processed/`.  \n",
        "- **Sensitive fields**: Email domains, device/browser info → treat as quasi-identifiers.  \n",
        "- **Data dictionary**: Build during EDA (separate notebook).  \n",
        "\n",
        "> If running in Colab: mount Google Drive and copy dataset into `/content/data/ieee/raw/`.  \n",
        "\n"
      ],
      "metadata": {
        "id": "r8fgWLobTbRj"
      }
    },
    {
      "cell_type": "markdown",
      "source": [
        "Config code **cell**"
      ],
      "metadata": {
        "id": "maf6y3VaTp_6"
      }
    },
    {
      "cell_type": "code",
      "source": [
        "# ==== Project config (scoping phase) ====\n",
        "from dataclasses import dataclass\n",
        "from pathlib import Path\n",
        "import random, os, numpy as np\n",
        "\n",
        "@dataclass\n",
        "class Config:\n",
        "    PROJECT: str = \"ieee_fraud_detection\"\n",
        "    PHASE: str   = \"scoping\"\n",
        "    SEED: int    = 42\n",
        "    # Change this path if needed (Colab vs local)\n",
        "    DATA_DIR: Path = Path(\"/content/data/ieee\")\n",
        "    RAW_DIR:  Path = DATA_DIR / \"raw\"\n",
        "    PROC_DIR: Path = DATA_DIR / \"processed\"\n",
        "    ARTIFACTS_DIR: Path = Path(\"/content/artifacts\")\n",
        "\n",
        "CFG = Config()\n",
        "\n",
        "# Reproducibility\n",
        "random.seed(CFG.SEED)\n",
        "np.random.seed(CFG.SEED)\n",
        "\n",
        "# Create folders (no-op if exist)\n",
        "for p in [CFG.DATA_DIR, CFG.RAW_DIR, CFG.PROC_DIR, CFG.ARTIFACTS_DIR]:\n",
        "    p.mkdir(parents=True, exist_ok=True)\n",
        "\n",
        "CFG\n"
      ],
      "metadata": {
        "colab": {
          "base_uri": "https://localhost:8080/"
        },
        "id": "IScdmLokTpgB",
        "outputId": "1e735fa7-48c3-4b91-e474-95417c0fd69b"
      },
      "execution_count": 1,
      "outputs": [
        {
          "output_type": "execute_result",
          "data": {
            "text/plain": [
              "Config(PROJECT='ieee_fraud_detection', PHASE='scoping', SEED=42, DATA_DIR=PosixPath('/content/data/ieee'), RAW_DIR=PosixPath('/content/data/ieee/raw'), PROC_DIR=PosixPath('/content/data/ieee/processed'), ARTIFACTS_DIR=PosixPath('/content/artifacts'))"
            ]
          },
          "metadata": {},
          "execution_count": 1
        }
      ]
    },
    {
      "cell_type": "markdown",
      "source": [
        "## 6) Evaluation plan (offline, scoping view)\n",
        "- **Metric focus**:  \n",
        "  - PR-AUC (robust for class imbalance)  \n",
        "  - ROC-AUC  \n",
        "  - Recall@k and Precision@k (for Ops review capacity)  \n",
        "  - FPR at fixed TPR (business trade-offs)  \n",
        "\n",
        "- **Thresholding**:  \n",
        "  - Pick operating point via **cost matrix** (fraud loss vs. review cost vs. customer friction).  \n",
        "\n",
        "- **Baselines planned** (to implement in modeling phase):  \n",
        "  - Dummy predictor (prevalence baseline)  \n",
        "  - Logistic Regression (with class weights)  \n",
        "  - LightGBM / XGBoost (tree-based, handles high-dim tabular)  \n",
        "  - (Optional) CatBoost (handles categorical features natively)  \n",
        "\n",
        "- **Outputs**:  \n",
        "  - Probability score [0,1]  \n",
        "  - Optional “reason codes” (from interpretable features/rules) for Ops.\n",
        "---\n"
      ],
      "metadata": {
        "id": "cb85du-nUwmg"
      }
    },
    {
      "cell_type": "markdown",
      "source": [
        "## 7) Experimental design & splitting strategy\n",
        "- **Primary split**: **Time-based** using `TransactionDT` → ensures no future info leaks into training.  \n",
        "- **Group integrity**: Keep all records of a user/device/card in the same fold (avoid leakage).  \n",
        "- **Validation strategy**:  \n",
        "  - Time-based train/val/test (e.g., 70/15/15)  \n",
        "  - GroupKFold (by user/card) as a backup.  \n",
        "- **Holdout test set**: Final test locked and only evaluated once.  \n",
        "- **Hyperparameter tuning**:  \n",
        "  - Early stopping on validation.  \n",
        "  - Optionally nested CV if time/resources allow."
      ],
      "metadata": {
        "id": "i5ANLVyWU7va"
      }
    },
    {
      "cell_type": "markdown",
      "source": [
        "## 8) Deliverables & 5-day timeline\n",
        "**Planned deliverables**\n",
        "- ☑ `01_scoping.ipynb` (this file)  \n",
        "- ☐ `02_eda.ipynb` (schema check, leakage checks, nulls, drift)  \n",
        "- ☐ `03_feature_engineering.ipynb` (encodings, aggregates, feature pipelines)  \n",
        "- ☐ `04_modeling.ipynb` (baselines → tuned models)  \n",
        "- ☐ `05_evaluation_thresholding.ipynb` (cost matrix, thresholding, operating point)  \n",
        "- ☐ `06_deployment_plan.md` (inference graph, latency, monitoring plan)  \n",
        "\n",
        "**Target timeline**\n",
        "- **Day 1:** Scoping (this notebook) ☑  \n",
        "- **Day 2:** EDA + leakage checks ☐  \n",
        "- **Day 3:** Baselines (LR, LGBM) ☐  \n",
        "- **Day 4:** Feature engineering + tuning ☐  \n",
        "- **Day 5:** Thresholding + packaging + final report ☐  \n",
        "\n",
        "---\n",
        "\n",
        "## 9) Approvals & next actions\n",
        "**Decisions to finalize now**\n",
        "- ☐ Confirm business KPI targets with stakeholders.  \n",
        "- ☐ Confirm latency budget (<200ms) with Ops/Payments.  \n",
        "- ☐ Approve data split strategy (time-based + group integrity).  \n",
        "\n",
        "**Next actions**\n",
        "- ☐ Fill in data dictionary during `02_eda.ipynb`.  \n",
        "- ☐ Upload raw dataset to `/content/data/ieee/raw/`.  \n",
        "- ☐ Open GitHub issues for each deliverable (copy from Section 8 checklist).  "
      ],
      "metadata": {
        "id": "Gav2NJWcVen6"
      }
    }
  ]
}
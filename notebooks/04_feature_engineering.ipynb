{
  "nbformat": 4,
  "nbformat_minor": 0,
  "metadata": {
    "colab": {
      "provenance": [],
      "gpuType": "V5E1",
      "mount_file_id": "1b9NwOrid-kav93EfydmCT5FINRsRstKT",
      "authorship_tag": "ABX9TyPz5KzKSKdiDP8aiWtpqOYT",
      "include_colab_link": true
    },
    "kernelspec": {
      "name": "python3",
      "display_name": "Python 3"
    },
    "language_info": {
      "name": "python"
    },
    "accelerator": "TPU"
  },
  "cells": [
    {
      "cell_type": "markdown",
      "metadata": {
        "id": "view-in-github",
        "colab_type": "text"
      },
      "source": [
        "<a href=\"https://colab.research.google.com/github/sr6awi/ieee_fraud_detection/blob/main/notebooks/04_feature_engineering.ipynb\" target=\"_parent\"><img src=\"https://colab.research.google.com/assets/colab-badge.svg\" alt=\"Open In Colab\"/></a>"
      ]
    },
    {
      "cell_type": "code",
      "source": [
        "import pandas as pd\n",
        "import numpy as np\n",
        "from pathlib import Path\n",
        "import matplotlib.pyplot as plt\n",
        "import seaborn as sns\n",
        "from sklearn.preprocessing import RobustScaler\n",
        "from sklearn.model_selection import train_test_split\n",
        "from sklearn.ensemble import RandomForestClassifier\n",
        "from sklearn.feature_selection import mutual_info_classif\n",
        "import joblib\n",
        "import json\n",
        "import warnings\n",
        "from tqdm import tqdm\n",
        "warnings.filterwarnings('ignore')"
      ],
      "metadata": {
        "id": "R8cEHkt_WXAJ"
      },
      "execution_count": 1,
      "outputs": []
    },
    {
      "cell_type": "code",
      "source": [
        "BASE_DIR = Path(\"/content/drive/MyDrive/ML_Projects/ieee-fraud-detection\")\n",
        "PROCESSED_DIR = BASE_DIR / \"processed\"\n",
        "ARTIFACT_DIR = BASE_DIR / \"artifacts/feature_engineering\"\n",
        "ARTIFACT_DIR.mkdir(parents=True, exist_ok=True)\n",
        "\n",
        "SEED = 42\n",
        "np.random.seed(SEED)\n",
        "\n",
        "print(\"=\" * 70)\n",
        "print(\"🚀 FEATURE ENGINEERING PIPELINE - PRODUCTION MODE\")\n",
        "print(\"=\" * 70)\n",
        "\n",
        "# Load preprocessed data\n",
        "print(\"\\n📥 Loading preprocessed data...\")\n",
        "train = pd.read_csv(PROCESSED_DIR / \"train_reduced.csv\")\n",
        "test = pd.read_csv(PROCESSED_DIR / \"test_reduced.csv\")\n",
        "\n",
        "print(f\"✅ Train: {train.shape}\")\n",
        "print(f\"✅ Test: {test.shape}\")\n",
        "print(f\"📊 Fraud rate: {train['isFraud'].mean()*100:.2f}%\")\n",
        "print(f\"⚖️ Class imbalance ratio: {(1 - train['isFraud'].mean()) / train['isFraud'].mean():.1f}:1\")\n",
        "\n",
        "# Inspect available columns\n",
        "print(\"\\n🔍 Inspecting available columns...\")\n",
        "print(f\"   Total columns: {len(train.columns)}\")\n",
        "\n",
        "# Check for key columns\n",
        "key_columns = ['TransactionDT', 'TransactionAmt', 'ProductCD', 'card1', 'card2',\n",
        "               'card3', 'card4', 'card5', 'card6', 'addr1', 'addr2',\n",
        "               'dist1', 'dist2', 'P_emaildomain', 'R_emaildomain',\n",
        "               'DeviceType', 'DeviceInfo']\n",
        "\n",
        "available_keys = [col for col in key_columns if col in train.columns]\n",
        "missing_keys = [col for col in key_columns if col not in train.columns]\n",
        "\n",
        "print(f\"\\n✅ Available key columns: {len(available_keys)}\")\n",
        "for col in available_keys:\n",
        "    print(f\"   • {col}\")\n",
        "\n",
        "if missing_keys:\n",
        "    print(f\"\\n⚠️ Missing key columns: {len(missing_keys)}\")\n",
        "    for col in missing_keys:\n",
        "        print(f\"   • {col}\")\n",
        "\n",
        "# Column type breakdown\n",
        "card_cols = [c for c in train.columns if c.startswith('card')]\n",
        "v_cols = [c for c in train.columns if c.startswith('V') and len(c) > 1]\n",
        "c_cols = [c for c in train.columns if c.startswith('C') and len(c) > 1]\n",
        "d_cols = [c for c in train.columns if c.startswith('D') and len(c) > 1]\n",
        "m_cols = [c for c in train.columns if c.startswith('M') and len(c) > 1]\n",
        "\n",
        "print(f\"\\n📊 Column categories:\")\n",
        "print(f\"   • Card columns: {len(card_cols)}\")\n",
        "print(f\"   • V columns: {len(v_cols)}\")\n",
        "print(f\"   • C columns: {len(c_cols)}\")\n",
        "print(f\"   • D columns: {len(d_cols)}\")\n",
        "print(f\"   • M columns: {len(m_cols)}\")"
      ],
      "metadata": {
        "id": "YTLMPp41Po42",
        "colab": {
          "base_uri": "https://localhost:8080/"
        },
        "outputId": "0ecd72bf-7127-47e8-cf9b-38a68d686c6f"
      },
      "execution_count": 2,
      "outputs": [
        {
          "output_type": "stream",
          "name": "stdout",
          "text": [
            "======================================================================\n",
            "🚀 FEATURE ENGINEERING PIPELINE - PRODUCTION MODE\n",
            "======================================================================\n",
            "\n",
            "📥 Loading preprocessed data...\n",
            "✅ Train: (590540, 183)\n",
            "✅ Test: (506691, 182)\n",
            "📊 Fraud rate: 3.50%\n",
            "⚖️ Class imbalance ratio: 27.6:1\n",
            "\n",
            "🔍 Inspecting available columns...\n",
            "   Total columns: 183\n",
            "\n",
            "✅ Available key columns: 15\n",
            "   • TransactionDT\n",
            "   • TransactionAmt\n",
            "   • ProductCD\n",
            "   • card1\n",
            "   • card2\n",
            "   • card3\n",
            "   • card4\n",
            "   • card5\n",
            "   • card6\n",
            "   • addr1\n",
            "   • addr2\n",
            "   • dist1\n",
            "   • P_emaildomain\n",
            "   • R_emaildomain\n",
            "   • DeviceType\n",
            "\n",
            "⚠️ Missing key columns: 2\n",
            "   • dist2\n",
            "   • DeviceInfo\n",
            "\n",
            "📊 Column categories:\n",
            "   • Card columns: 6\n",
            "   • V columns: 139\n",
            "   • C columns: 4\n",
            "   • D columns: 8\n",
            "   • M columns: 8\n"
          ]
        }
      ]
    },
    {
      "cell_type": "code",
      "source": [
        "print(\"\\n\" + \"=\"*70)\n",
        "print(\"⏰ CREATING TEMPORAL FEATURES\")\n",
        "print(\"=\"*70)\n",
        "\n",
        "def create_temporal_features(df):\n",
        "    \"\"\"\n",
        "    Extract time-based patterns from TransactionDT.\n",
        "    Fraud patterns vary significantly by time.\n",
        "    \"\"\"\n",
        "    if 'TransactionDT' not in df.columns:\n",
        "        print(\"⚠️ TransactionDT not found - skipping temporal features\")\n",
        "        return df, 0\n",
        "\n",
        "    df = df.copy()\n",
        "    features_created = 0\n",
        "\n",
        "    # Basic time decomposition\n",
        "    df['transaction_hour'] = (df['TransactionDT'] / 3600) % 24\n",
        "    df['transaction_day'] = (df['TransactionDT'] / (3600 * 24))\n",
        "    df['transaction_day_of_week'] = df['transaction_day'] % 7\n",
        "    df['transaction_week'] = (df['transaction_day'] // 7).astype(int)\n",
        "    features_created += 4\n",
        "\n",
        "    # Business intelligence features\n",
        "    df['is_night'] = ((df['transaction_hour'] >= 22) | (df['transaction_hour'] <= 6)).astype(int)\n",
        "    df['is_weekend'] = (df['transaction_day_of_week'] >= 5).astype(int)\n",
        "    df['is_business_hours'] = ((df['transaction_hour'] >= 9) & (df['transaction_hour'] <= 17)).astype(int)\n",
        "    df['is_lunch_hour'] = ((df['transaction_hour'] >= 12) & (df['transaction_hour'] <= 14)).astype(int)\n",
        "    df['is_late_night'] = ((df['transaction_hour'] >= 0) & (df['transaction_hour'] <= 4)).astype(int)\n",
        "    features_created += 5\n",
        "\n",
        "    # Cyclical encoding (preserves circular nature of time)\n",
        "    df['hour_sin'] = np.sin(2 * np.pi * df['transaction_hour'] / 24)\n",
        "    df['hour_cos'] = np.cos(2 * np.pi * df['transaction_hour'] / 24)\n",
        "    df['day_sin'] = np.sin(2 * np.pi * df['transaction_day_of_week'] / 7)\n",
        "    df['day_cos'] = np.cos(2 * np.pi * df['transaction_day_of_week'] / 7)\n",
        "    features_created += 4\n",
        "\n",
        "    # Time bins\n",
        "    df['hour_bin'] = pd.cut(df['transaction_hour'], bins=6, labels=False)\n",
        "    features_created += 1\n",
        "\n",
        "    return df, features_created\n",
        "\n",
        "train, temporal_features = create_temporal_features(train)\n",
        "test, _ = create_temporal_features(test)\n",
        "\n",
        "print(f\"✅ Created {temporal_features} temporal features\")\n",
        "if temporal_features > 0:\n",
        "    print(f\"   • Time decomposition: hour, day, week, day_of_week\")\n",
        "    print(f\"   • Business logic: night, weekend, business_hours, lunch_hour, late_night\")\n",
        "    print(f\"   • Cyclical encoding: sin/cos transformations\")\n",
        "    print(f\"   • Binning: hour_bin (6 categories)\")"
      ],
      "metadata": {
        "colab": {
          "base_uri": "https://localhost:8080/"
        },
        "id": "fIBq6XftV-un",
        "outputId": "9023372b-48e5-4be1-8006-bce2185ab4b2"
      },
      "execution_count": 3,
      "outputs": [
        {
          "output_type": "stream",
          "name": "stdout",
          "text": [
            "\n",
            "======================================================================\n",
            "⏰ CREATING TEMPORAL FEATURES\n",
            "======================================================================\n",
            "✅ Created 14 temporal features\n",
            "   • Time decomposition: hour, day, week, day_of_week\n",
            "   • Business logic: night, weekend, business_hours, lunch_hour, late_night\n",
            "   • Cyclical encoding: sin/cos transformations\n",
            "   • Binning: hour_bin (6 categories)\n"
          ]
        }
      ]
    },
    {
      "cell_type": "code",
      "source": [
        "print(\"\\n\" + \"=\"*70)\n",
        "print(\"💰 CREATING TRANSACTION AMOUNT FEATURES\")\n",
        "print(\"=\"*70)\n",
        "\n",
        "def create_amount_features(df):\n",
        "    \"\"\"\n",
        "    Engineer features from TransactionAmt.\n",
        "    \"\"\"\n",
        "    if 'TransactionAmt' not in df.columns:\n",
        "        print(\"⚠️ TransactionAmt not found - skipping amount features\")\n",
        "        return df, 0\n",
        "\n",
        "    df = df.copy()\n",
        "    features_created = 0\n",
        "\n",
        "    # Log transformation (reduces skewness)\n",
        "    df['TransactionAmt_log'] = np.log1p(df['TransactionAmt'])\n",
        "    df['TransactionAmt_sqrt'] = np.sqrt(df['TransactionAmt'])\n",
        "    features_created += 2\n",
        "\n",
        "    # Decimal analysis (fraud often has specific patterns)\n",
        "    df['TransactionAmt_decimal'] = df['TransactionAmt'] % 1\n",
        "    df['TransactionAmt_is_round'] = (df['TransactionAmt_decimal'] == 0).astype(int)\n",
        "    df['TransactionAmt_is_99cent'] = (df['TransactionAmt_decimal'].between(0.98, 0.995)).astype(int)\n",
        "    features_created += 3\n",
        "\n",
        "    # Binning (categorical groups)\n",
        "    bins = [0, 50, 100, 200, 500, 1000, 5000, np.inf]\n",
        "    df['TransactionAmt_bin'] = pd.cut(df['TransactionAmt'], bins=bins, labels=False)\n",
        "    features_created += 1\n",
        "\n",
        "    return df, features_created\n",
        "\n",
        "train, amount_features = create_amount_features(train)\n",
        "test, _ = create_amount_features(test)\n",
        "\n",
        "print(f\"✅ Created {amount_features} amount features\")\n",
        "print(f\"   • Transformations: log, sqrt\")\n",
        "print(f\"   • Decimal patterns: decimal, is_round, is_99cent\")\n",
        "print(f\"   • Binning: 7 price tiers\")"
      ],
      "metadata": {
        "colab": {
          "base_uri": "https://localhost:8080/"
        },
        "id": "fym46tEoy-Hh",
        "outputId": "7c829ab4-6259-4921-b931-a8eda1090322"
      },
      "execution_count": 4,
      "outputs": [
        {
          "output_type": "stream",
          "name": "stdout",
          "text": [
            "\n",
            "======================================================================\n",
            "💰 CREATING TRANSACTION AMOUNT FEATURES\n",
            "======================================================================\n",
            "✅ Created 6 amount features\n",
            "   • Transformations: log, sqrt\n",
            "   • Decimal patterns: decimal, is_round, is_99cent\n",
            "   • Binning: 7 price tiers\n"
          ]
        }
      ]
    },
    {
      "cell_type": "code",
      "source": [
        "print(\"\\n\" + \"=\"*70)\n",
        "print(\"💳 CREATING CARD AGGREGATION FEATURES\")\n",
        "print(\"=\"*70)\n",
        "\n",
        "def create_card_aggregations(train_df, test_df):\n",
        "    \"\"\"\n",
        "    Create aggregation features for card usage patterns.\n",
        "    CRITICAL: All statistics from TRAIN only!\n",
        "    \"\"\"\n",
        "    card_cols = [col for col in train_df.columns if col.startswith('card') and col.replace('card', '').isdigit()]\n",
        "\n",
        "    if len(card_cols) == 0:\n",
        "        print(\"⚠️ No card columns found - skipping\")\n",
        "        return train_df, test_df, 0\n",
        "\n",
        "    features_created = 0\n",
        "\n",
        "    for card_col in tqdm(card_cols, desc=\"Processing cards\"):\n",
        "        # 1. Frequency\n",
        "        card_counts = train_df[card_col].value_counts().to_dict()\n",
        "        train_df[f'{card_col}_count'] = train_df[card_col].map(card_counts)\n",
        "        test_df[f'{card_col}_count'] = test_df[card_col].map(card_counts).fillna(0)\n",
        "        features_created += 1\n",
        "\n",
        "        # 2. Mean amount (from train)\n",
        "        if 'TransactionAmt' in train_df.columns:\n",
        "            card_mean_amt = train_df.groupby(card_col)['TransactionAmt'].mean().to_dict()\n",
        "            train_df[f'{card_col}_mean_amt'] = train_df[card_col].map(card_mean_amt)\n",
        "            test_df[f'{card_col}_mean_amt'] = test_df[card_col].map(card_mean_amt).fillna(train_df['TransactionAmt'].mean())\n",
        "\n",
        "            # Deviation from card's typical amount\n",
        "            train_df[f'{card_col}_amt_deviation'] = train_df['TransactionAmt'] - train_df[f'{card_col}_mean_amt']\n",
        "            test_df[f'{card_col}_amt_deviation'] = test_df['TransactionAmt'] - test_df[f'{card_col}_mean_amt']\n",
        "            features_created += 2\n",
        "\n",
        "        # 3. Fraud rate (from train)\n",
        "        if 'isFraud' in train_df.columns:\n",
        "            card_fraud_rate = train_df.groupby(card_col)['isFraud'].mean().to_dict()\n",
        "            train_df[f'{card_col}_fraud_rate'] = train_df[card_col].map(card_fraud_rate)\n",
        "            test_df[f'{card_col}_fraud_rate'] = test_df[card_col].map(card_fraud_rate).fillna(train_df['isFraud'].mean())\n",
        "            features_created += 1\n",
        "\n",
        "    return train_df, test_df, features_created\n",
        "\n",
        "train, test, card_features = create_card_aggregations(train, test)\n",
        "\n",
        "print(f\"✅ Created {card_features} card aggregation features\")\n",
        "print(f\"   • Count, mean_amt, amt_deviation, fraud_rate per card\")\n",
        "print(f\"   • All statistics from TRAIN only (no leakage)\")"
      ],
      "metadata": {
        "colab": {
          "base_uri": "https://localhost:8080/"
        },
        "id": "d3qwz_oUzNuj",
        "outputId": "fa0a2140-3203-4cfe-c5ef-bbd71d0409d4"
      },
      "execution_count": 5,
      "outputs": [
        {
          "output_type": "stream",
          "name": "stdout",
          "text": [
            "\n",
            "======================================================================\n",
            "💳 CREATING CARD AGGREGATION FEATURES\n",
            "======================================================================\n"
          ]
        },
        {
          "output_type": "stream",
          "name": "stderr",
          "text": [
            "Processing cards: 100%|██████████| 6/6 [00:00<00:00, 14.17it/s]"
          ]
        },
        {
          "output_type": "stream",
          "name": "stdout",
          "text": [
            "✅ Created 24 card aggregation features\n",
            "   • Count, mean_amt, amt_deviation, fraud_rate per card\n",
            "   • All statistics from TRAIN only (no leakage)\n"
          ]
        },
        {
          "output_type": "stream",
          "name": "stderr",
          "text": [
            "\n"
          ]
        }
      ]
    },
    {
      "cell_type": "code",
      "source": [
        "print(\"\\n\" + \"=\"*70)\n",
        "print(\"📧 CREATING EMAIL DOMAIN FEATURES\")\n",
        "print(\"=\"*70)\n",
        "\n",
        "def create_email_features(train_df, test_df):\n",
        "    \"\"\"\n",
        "    Extract features from email domains.\n",
        "    \"\"\"\n",
        "    features_created = 0\n",
        "\n",
        "    for email_col in ['P_emaildomain', 'R_emaildomain']:\n",
        "        if email_col not in train_df.columns:\n",
        "            continue\n",
        "\n",
        "        # Domain popularity (from train)\n",
        "        domain_counts = train_df[email_col].value_counts().to_dict()\n",
        "        train_df[f'{email_col}_count'] = train_df[email_col].map(domain_counts)\n",
        "        test_df[f'{email_col}_count'] = test_df[email_col].map(domain_counts).fillna(0)\n",
        "        features_created += 1\n",
        "\n",
        "        # Fraud rate by domain (from train)\n",
        "        if 'isFraud' in train_df.columns:\n",
        "            domain_fraud = train_df.groupby(email_col)['isFraud'].mean().to_dict()\n",
        "            train_df[f'{email_col}_fraud_rate'] = train_df[email_col].map(domain_fraud)\n",
        "            test_df[f'{email_col}_fraud_rate'] = test_df[email_col].map(domain_fraud).fillna(train_df['isFraud'].mean())\n",
        "            features_created += 1\n",
        "\n",
        "        # Common provider flag\n",
        "        common_providers = ['gmail', 'yahoo', 'hotmail', 'outlook', 'icloud']\n",
        "        train_df[f'{email_col}_is_common'] = train_df[email_col].astype(str).apply(\n",
        "            lambda x: int(any(p in x.lower() for p in common_providers))\n",
        "        )\n",
        "        test_df[f'{email_col}_is_common'] = test_df[email_col].astype(str).apply(\n",
        "            lambda x: int(any(p in x.lower() for p in common_providers))\n",
        "        )\n",
        "        features_created += 1\n",
        "\n",
        "    # Email match\n",
        "    if 'P_emaildomain' in train_df.columns and 'R_emaildomain' in train_df.columns:\n",
        "        train_df['email_domains_match'] = (train_df['P_emaildomain'] == train_df['R_emaildomain']).astype(int)\n",
        "        test_df['email_domains_match'] = (test_df['P_emaildomain'] == test_df['R_emaildomain']).astype(int)\n",
        "        features_created += 1\n",
        "\n",
        "    return train_df, test_df, features_created\n",
        "\n",
        "train, test, email_features = create_email_features(train, test)\n",
        "\n",
        "print(f\"✅ Created {email_features} email features\")\n",
        "print(f\"   • Domain counts, fraud rates, common provider flags\")"
      ],
      "metadata": {
        "colab": {
          "base_uri": "https://localhost:8080/"
        },
        "id": "YaqB5sfm5J9n",
        "outputId": "8dcc7a5d-682a-4fa6-8b76-9de6bbebe032"
      },
      "execution_count": 6,
      "outputs": [
        {
          "output_type": "stream",
          "name": "stdout",
          "text": [
            "\n",
            "======================================================================\n",
            "📧 CREATING EMAIL DOMAIN FEATURES\n",
            "======================================================================\n",
            "✅ Created 7 email features\n",
            "   • Domain counts, fraud rates, common provider flags\n"
          ]
        }
      ]
    },
    {
      "cell_type": "code",
      "source": [
        "print(\"\\n\" + \"=\"*70)\n",
        "print(\"🏠 CREATING ADDRESS & DISTANCE FEATURES\")\n",
        "print(\"=\"*70)\n",
        "\n",
        "def create_address_features(df):\n",
        "    \"\"\"\n",
        "    Extract address-related features.\n",
        "    \"\"\"\n",
        "    df = df.copy()\n",
        "    features_created = 0\n",
        "\n",
        "    # Address match\n",
        "    if 'addr1' in df.columns and 'addr2' in df.columns:\n",
        "        df['addr_match'] = (df['addr1'] == df['addr2']).astype(int)\n",
        "        features_created += 1\n",
        "\n",
        "    # Distance features\n",
        "    if 'dist1' in df.columns:\n",
        "        if 'dist2' in df.columns:\n",
        "            df['dist_diff'] = np.abs(df['dist1'] - df['dist2'])\n",
        "            df['dist_ratio'] = df['dist1'] / (df['dist2'] + 1)\n",
        "            df['dist_sum'] = df['dist1'] + df['dist2']\n",
        "            features_created += 3\n",
        "\n",
        "    return df, features_created\n",
        "\n",
        "train, addr_features = create_address_features(train)\n",
        "test, _ = create_address_features(test)\n",
        "\n",
        "print(f\"✅ Created {addr_features} address features\")"
      ],
      "metadata": {
        "colab": {
          "base_uri": "https://localhost:8080/"
        },
        "id": "ZeKH60xt5XUn",
        "outputId": "bb5dd457-0b9a-41c4-8c21-b4ad22c40b99"
      },
      "execution_count": 7,
      "outputs": [
        {
          "output_type": "stream",
          "name": "stdout",
          "text": [
            "\n",
            "======================================================================\n",
            "🏠 CREATING ADDRESS & DISTANCE FEATURES\n",
            "======================================================================\n",
            "✅ Created 1 address features\n"
          ]
        }
      ]
    },
    {
      "cell_type": "code",
      "source": [
        "print(\"\\n\" + \"=\"*70)\n",
        "print(\"📱 CREATING DEVICE FEATURES\")\n",
        "print(\"=\"*70)\n",
        "\n",
        "def create_device_features(train_df, test_df):\n",
        "    \"\"\"\n",
        "    Extract device patterns.\n",
        "    \"\"\"\n",
        "    features_created = 0\n",
        "\n",
        "    for device_col in ['DeviceType', 'DeviceInfo']:\n",
        "        if device_col not in train_df.columns:\n",
        "            continue\n",
        "\n",
        "        # Count (from train)\n",
        "        device_counts = train_df[device_col].value_counts().to_dict()\n",
        "        train_df[f'{device_col}_count'] = train_df[device_col].map(device_counts)\n",
        "        test_df[f'{device_col}_count'] = test_df[device_col].map(device_counts).fillna(0)\n",
        "        features_created += 1\n",
        "\n",
        "        # Fraud rate (from train)\n",
        "        if 'isFraud' in train_df.columns:\n",
        "            device_fraud = train_df.groupby(device_col)['isFraud'].mean().to_dict()\n",
        "            train_df[f'{device_col}_fraud_rate'] = train_df[device_col].map(device_fraud)\n",
        "            test_df[f'{device_col}_fraud_rate'] = test_df[device_col].map(device_fraud).fillna(train_df['isFraud'].mean())\n",
        "            features_created += 1\n",
        "\n",
        "    return train_df, test_df, features_created\n",
        "\n",
        "train, test, device_features = create_device_features(train, test)\n",
        "\n",
        "print(f\"✅ Created {device_features} device features\")"
      ],
      "metadata": {
        "colab": {
          "base_uri": "https://localhost:8080/"
        },
        "id": "0GJTu8Xf54Oy",
        "outputId": "57c76c43-8c8b-431a-8bd9-e14e7ea51d84"
      },
      "execution_count": 8,
      "outputs": [
        {
          "output_type": "stream",
          "name": "stdout",
          "text": [
            "\n",
            "======================================================================\n",
            "📱 CREATING DEVICE FEATURES\n",
            "======================================================================\n",
            "✅ Created 2 device features\n"
          ]
        }
      ]
    },
    {
      "cell_type": "code",
      "source": [
        "print(\"\\n\" + \"=\"*70)\n",
        "print(\"📦 CREATING PRODUCT FEATURES\")\n",
        "print(\"=\"*70)\n",
        "\n",
        "def create_product_features(train_df, test_df):\n",
        "    \"\"\"\n",
        "    Create product-related features.\n",
        "    \"\"\"\n",
        "    if 'ProductCD' not in train_df.columns:\n",
        "        print(\"⚠️ ProductCD not found - skipping\")\n",
        "        return train_df, test_df, 0\n",
        "\n",
        "    features_created = 0\n",
        "\n",
        "    # Product count (from train)\n",
        "    product_counts = train_df['ProductCD'].value_counts().to_dict()\n",
        "    train_df['ProductCD_count'] = train_df['ProductCD'].map(product_counts)\n",
        "    test_df['ProductCD_count'] = test_df['ProductCD'].map(product_counts).fillna(0)\n",
        "    features_created += 1\n",
        "\n",
        "    # Fraud rate (from train)\n",
        "    if 'isFraud' in train_df.columns:\n",
        "        product_fraud = train_df.groupby('ProductCD')['isFraud'].mean().to_dict()\n",
        "        train_df['ProductCD_fraud_rate'] = train_df['ProductCD'].map(product_fraud)\n",
        "        test_df['ProductCD_fraud_rate'] = test_df['ProductCD'].map(product_fraud).fillna(train_df['isFraud'].mean())\n",
        "        features_created += 1\n",
        "\n",
        "    # Mean amount (from train)\n",
        "    if 'TransactionAmt' in train_df.columns:\n",
        "        product_mean_amt = train_df.groupby('ProductCD')['TransactionAmt'].mean().to_dict()\n",
        "        train_df['ProductCD_mean_amt'] = train_df['ProductCD'].map(product_mean_amt)\n",
        "        test_df['ProductCD_mean_amt'] = test_df['ProductCD'].map(product_mean_amt).fillna(train_df['TransactionAmt'].mean())\n",
        "        features_created += 1\n",
        "\n",
        "    return train_df, test_df, features_created\n",
        "\n",
        "train, test, product_features = create_product_features(train, test)\n",
        "\n",
        "print(f\"✅ Created {product_features} product features\")"
      ],
      "metadata": {
        "colab": {
          "base_uri": "https://localhost:8080/"
        },
        "id": "hQEpxksK6IsS",
        "outputId": "7ba51140-eb0e-4fbb-ae4c-19860fec8862"
      },
      "execution_count": 9,
      "outputs": [
        {
          "output_type": "stream",
          "name": "stdout",
          "text": [
            "\n",
            "======================================================================\n",
            "📦 CREATING PRODUCT FEATURES\n",
            "======================================================================\n",
            "✅ Created 3 product features\n"
          ]
        }
      ]
    },
    {
      "cell_type": "code",
      "source": [
        "print(\"\\n\" + \"=\"*70)\n",
        "print(\"🔗 CREATING INTERACTION FEATURES\")\n",
        "print(\"=\"*70)\n",
        "\n",
        "def create_interaction_features(train_df, test_df):\n",
        "    \"\"\"\n",
        "    Create interaction features between important variables.\n",
        "    \"\"\"\n",
        "    features_created = 0\n",
        "\n",
        "    # Card × Amount\n",
        "    if 'card1' in train_df.columns and 'TransactionAmt' in train_df.columns:\n",
        "        train_df['card1_TransactionAmt'] = train_df['card1'] * train_df['TransactionAmt']\n",
        "        test_df['card1_TransactionAmt'] = test_df['card1'] * test_df['TransactionAmt']\n",
        "        features_created += 1\n",
        "\n",
        "    # Card × Hour (if both exist)\n",
        "    if 'card1' in train_df.columns and 'transaction_hour' in train_df.columns:\n",
        "        # Create interaction string\n",
        "        train_df['card1_hour_str'] = train_df['card1'].astype(str) + '_' + train_df['transaction_hour'].astype(int).astype(str)\n",
        "        test_df['card1_hour_str'] = test_df['card1'].astype(str) + '_' + test_df['transaction_hour'].astype(int).astype(str)\n",
        "\n",
        "        # Frequency encoding (from train)\n",
        "        hour_counts = train_df['card1_hour_str'].value_counts().to_dict()\n",
        "        train_df['card1_hour_freq'] = train_df['card1_hour_str'].map(hour_counts)\n",
        "        test_df['card1_hour_freq'] = test_df['card1_hour_str'].map(hour_counts).fillna(0)\n",
        "\n",
        "        # Drop string column\n",
        "        train_df = train_df.drop('card1_hour_str', axis=1)\n",
        "        test_df = test_df.drop('card1_hour_str', axis=1)\n",
        "        features_created += 1\n",
        "\n",
        "    # Amount × Hour\n",
        "    if 'transaction_hour' in train_df.columns and 'TransactionAmt' in train_df.columns:\n",
        "        train_df['amt_hour'] = train_df['TransactionAmt'] * train_df['transaction_hour']\n",
        "        test_df['amt_hour'] = test_df['TransactionAmt'] * test_df['transaction_hour']\n",
        "        features_created += 1\n",
        "\n",
        "    # Amount × Day of Week\n",
        "    if 'transaction_day_of_week' in train_df.columns and 'TransactionAmt' in train_df.columns:\n",
        "        train_df['amt_day_of_week'] = train_df['TransactionAmt'] * train_df['transaction_day_of_week']\n",
        "        test_df['amt_day_of_week'] = test_df['TransactionAmt'] * test_df['transaction_day_of_week']\n",
        "        features_created += 1\n",
        "\n",
        "    return train_df, test_df, features_created\n",
        "\n",
        "train, test, interaction_features = create_interaction_features(train, test)\n",
        "\n",
        "print(f\"✅ Created {interaction_features} interaction features\")"
      ],
      "metadata": {
        "colab": {
          "base_uri": "https://localhost:8080/"
        },
        "id": "wR0Y6M2N6W7O",
        "outputId": "8ffdc846-5382-4917-cbce-c9a9a0b6ec0f"
      },
      "execution_count": 10,
      "outputs": [
        {
          "output_type": "stream",
          "name": "stdout",
          "text": [
            "\n",
            "======================================================================\n",
            "🔗 CREATING INTERACTION FEATURES\n",
            "======================================================================\n",
            "✅ Created 4 interaction features\n"
          ]
        }
      ]
    },
    {
      "cell_type": "code",
      "source": [
        "print(\"\\n\" + \"=\"*70)\n",
        "print(\"📊 CREATING V-COLUMN AGGREGATIONS\")\n",
        "print(\"=\"*70)\n",
        "\n",
        "def create_v_aggregations(df):\n",
        "    \"\"\"\n",
        "    Aggregate V columns (Vesta's engineered features).\n",
        "    \"\"\"\n",
        "    v_cols = [col for col in df.columns if col.startswith('V') and len(col) > 1]\n",
        "\n",
        "    if len(v_cols) == 0:\n",
        "        print(\"⚠️ No V columns found - skipping\")\n",
        "        return df, 0\n",
        "\n",
        "    df = df.copy()\n",
        "    df['V_mean'] = df[v_cols].mean(axis=1)\n",
        "    df['V_std'] = df[v_cols].std(axis=1)\n",
        "    df['V_min'] = df[v_cols].min(axis=1)\n",
        "    df['V_max'] = df[v_cols].max(axis=1)\n",
        "    df['V_range'] = df['V_max'] - df['V_min']\n",
        "    df['V_sum'] = df[v_cols].sum(axis=1)\n",
        "    df['V_nonzero_count'] = (df[v_cols] != 0).sum(axis=1)\n",
        "\n",
        "    return df, 7\n",
        "\n",
        "train, v_features = create_v_aggregations(train)\n",
        "test, _ = create_v_aggregations(test)\n",
        "\n",
        "print(f\"✅ Created {v_features} V-column aggregations\")"
      ],
      "metadata": {
        "colab": {
          "base_uri": "https://localhost:8080/"
        },
        "id": "mS39tswt6mDU",
        "outputId": "d28d0f80-7409-4615-c4df-b385ac9d47aa"
      },
      "execution_count": 11,
      "outputs": [
        {
          "output_type": "stream",
          "name": "stdout",
          "text": [
            "\n",
            "======================================================================\n",
            "📊 CREATING V-COLUMN AGGREGATIONS\n",
            "======================================================================\n",
            "✅ Created 7 V-column aggregations\n"
          ]
        }
      ]
    },
    {
      "cell_type": "code",
      "source": [
        "print(\"\\n\" + \"=\"*70)\n",
        "print(\"📈 CREATING C-COLUMN AGGREGATIONS\")\n",
        "print(\"=\"*70)\n",
        "\n",
        "def create_c_aggregations(df):\n",
        "    \"\"\"\n",
        "    Aggregate C columns (count features).\n",
        "    \"\"\"\n",
        "    c_cols = [col for col in df.columns if col.startswith('C') and len(col) > 1 and col[1:].isdigit()]\n",
        "\n",
        "    if len(c_cols) == 0:\n",
        "        print(\"⚠️ No C columns found - skipping\")\n",
        "        return df, 0\n",
        "\n",
        "    df = df.copy()\n",
        "    df['C_sum'] = df[c_cols].sum(axis=1)\n",
        "    df['C_mean'] = df[c_cols].mean(axis=1)\n",
        "    df['C_std'] = df[c_cols].std(axis=1)\n",
        "    df['C_max'] = df[c_cols].max(axis=1)\n",
        "    df['C_min'] = df[c_cols].min(axis=1)\n",
        "\n",
        "    return df, 5\n",
        "\n",
        "train, c_features = create_c_aggregations(train)\n",
        "test, _ = create_c_aggregations(test)\n",
        "\n",
        "print(f\"✅ Created {c_features} C-column aggregations\")"
      ],
      "metadata": {
        "colab": {
          "base_uri": "https://localhost:8080/"
        },
        "id": "COiK45-j6_8I",
        "outputId": "e8e17be2-82cb-4f2d-ff40-6e8a5f7cda0c"
      },
      "execution_count": 12,
      "outputs": [
        {
          "output_type": "stream",
          "name": "stdout",
          "text": [
            "\n",
            "======================================================================\n",
            "📈 CREATING C-COLUMN AGGREGATIONS\n",
            "======================================================================\n",
            "✅ Created 5 C-column aggregations\n"
          ]
        }
      ]
    },
    {
      "cell_type": "code",
      "source": [
        "print(\"\\n\" + \"=\"*70)\n",
        "print(\"⏱️ CREATING D & M-COLUMN AGGREGATIONS\")\n",
        "print(\"=\"*70)\n",
        "\n",
        "def create_d_m_aggregations(df):\n",
        "    \"\"\"\n",
        "    Aggregate D and M columns.\n",
        "    \"\"\"\n",
        "    features_created = 0\n",
        "\n",
        "    # D columns (time deltas)\n",
        "    d_cols = [col for col in df.columns if col.startswith('D') and len(col) > 1]\n",
        "    if len(d_cols) > 0:\n",
        "        df['D_mean'] = df[d_cols].mean(axis=1)\n",
        "        df['D_std'] = df[d_cols].std(axis=1)\n",
        "        df['D_range'] = df[d_cols].max(axis=1) - df[d_cols].min(axis=1)\n",
        "        features_created += 3\n",
        "\n",
        "    # M columns (match features)\n",
        "    m_cols = [col for col in df.columns if col.startswith('M') and len(col) > 1]\n",
        "    if len(m_cols) > 0:\n",
        "        df['M_true_count'] = (df[m_cols] == 1).sum(axis=1)\n",
        "        df['M_false_count'] = (df[m_cols] == 0).sum(axis=1)\n",
        "        df['M_match_ratio'] = df['M_true_count'] / (df['M_true_count'] + df['M_false_count'] + 1)\n",
        "        features_created += 3\n",
        "\n",
        "    return df, features_created\n",
        "\n",
        "train, dm_features = create_d_m_aggregations(train)\n",
        "test, _ = create_d_m_aggregations(test)\n",
        "\n",
        "print(f\"✅ Created {dm_features} D & M-column aggregations\")"
      ],
      "metadata": {
        "colab": {
          "base_uri": "https://localhost:8080/"
        },
        "id": "l7lGXWsN7RXY",
        "outputId": "7625cff9-63b3-472f-cc65-b202d7e4160a"
      },
      "execution_count": 13,
      "outputs": [
        {
          "output_type": "stream",
          "name": "stdout",
          "text": [
            "\n",
            "======================================================================\n",
            "⏱️ CREATING D & M-COLUMN AGGREGATIONS\n",
            "======================================================================\n",
            "✅ Created 6 D & M-column aggregations\n"
          ]
        }
      ]
    },
    {
      "cell_type": "code",
      "source": [
        "print(\"\\n\" + \"=\"*70)\n",
        "print(\"📊 FEATURE ENGINEERING SUMMARY\")\n",
        "print(\"=\"*70)\n",
        "\n",
        "total_new = (temporal_features + amount_features + card_features + email_features +\n",
        "             addr_features + device_features + product_features + interaction_features +\n",
        "             v_features + c_features + dm_features)\n",
        "\n",
        "print(f\"\\n✅ Features Created by Category:\")\n",
        "print(f\"   • Temporal: {temporal_features}\")\n",
        "print(f\"   • Amount: {amount_features}\")\n",
        "print(f\"   • Card aggregations: {card_features}\")\n",
        "print(f\"   • Email: {email_features}\")\n",
        "print(f\"   • Address: {addr_features}\")\n",
        "print(f\"   • Device: {device_features}\")\n",
        "print(f\"   • Product: {product_features}\")\n",
        "print(f\"   • Interactions: {interaction_features}\")\n",
        "print(f\"   • V-aggregations: {v_features}\")\n",
        "print(f\"   • C-aggregations: {c_features}\")\n",
        "print(f\"   • D & M-aggregations: {dm_features}\")\n",
        "print(f\"\\n🎯 Total new features: {total_new}\")\n",
        "print(f\"📈 Original features: 183\")\n",
        "print(f\"📈 Final feature count: {train.shape[1] - 2} (excluding target & ID)\")\n",
        "print(f\"📈 Feature increase: +{total_new} ({(total_new/183*100):.1f}% increase)\")"
      ],
      "metadata": {
        "colab": {
          "base_uri": "https://localhost:8080/"
        },
        "id": "pRHCsptx7b-T",
        "outputId": "61addd25-b9f2-4e53-a3d0-4c9b29393f3b"
      },
      "execution_count": 14,
      "outputs": [
        {
          "output_type": "stream",
          "name": "stdout",
          "text": [
            "\n",
            "======================================================================\n",
            "📊 FEATURE ENGINEERING SUMMARY\n",
            "======================================================================\n",
            "\n",
            "✅ Features Created by Category:\n",
            "   • Temporal: 14\n",
            "   • Amount: 6\n",
            "   • Card aggregations: 24\n",
            "   • Email: 7\n",
            "   • Address: 1\n",
            "   • Device: 2\n",
            "   • Product: 3\n",
            "   • Interactions: 4\n",
            "   • V-aggregations: 7\n",
            "   • C-aggregations: 5\n",
            "   • D & M-aggregations: 6\n",
            "\n",
            "🎯 Total new features: 79\n",
            "📈 Original features: 183\n",
            "📈 Final feature count: 260 (excluding target & ID)\n",
            "📈 Feature increase: +79 (43.2% increase)\n"
          ]
        }
      ]
    },
    {
      "cell_type": "code",
      "source": [
        "print(\"\\n\" + \"=\"*70)\n",
        "print(\"✂️ CREATING TRAIN/VALIDATION SPLIT\")\n",
        "print(\"=\"*70)\n",
        "\n",
        "# Prepare features\n",
        "X = train.drop(columns=['isFraud'])\n",
        "if 'TransactionID' in X.columns:\n",
        "    X = X.drop(columns=['TransactionID'])\n",
        "\n",
        "y = train['isFraud']\n",
        "\n",
        "# Stratified split (critical for imbalanced data!)\n",
        "X_train, X_val, y_train, y_val = train_test_split(\n",
        "    X, y, test_size=0.2, stratify=y, random_state=SEED\n",
        ")\n",
        "\n",
        "print(f\"✅ Split complete:\")\n",
        "print(f\"   Train: {X_train.shape}\")\n",
        "print(f\"   Validation: {X_val.shape}\")\n",
        "print(f\"   Train fraud rate: {y_train.mean()*100:.2f}%\")\n",
        "print(f\"   Val fraud rate: {y_val.mean()*100:.2f}%\")"
      ],
      "metadata": {
        "id": "m0UZHZPP7v5P",
        "colab": {
          "base_uri": "https://localhost:8080/"
        },
        "outputId": "37d3a8e5-3e87-409a-bbb3-0d1d8f500e78"
      },
      "execution_count": 15,
      "outputs": [
        {
          "output_type": "stream",
          "name": "stdout",
          "text": [
            "\n",
            "======================================================================\n",
            "✂️ CREATING TRAIN/VALIDATION SPLIT\n",
            "======================================================================\n",
            "✅ Split complete:\n",
            "   Train: (472432, 260)\n",
            "   Validation: (118108, 260)\n",
            "   Train fraud rate: 3.50%\n",
            "   Val fraud rate: 3.50%\n"
          ]
        }
      ]
    },
    {
      "cell_type": "code",
      "source": [
        "print(\"\\n\" + \"=\"*70)\n",
        "print(\"🔍 FEATURE IMPORTANCE ANALYSIS\")\n",
        "print(\"=\"*70)\n",
        "\n",
        "print(\"Training baseline Random Forest for feature importance...\")\n",
        "print(\"(This may take a few minutes...)\")\n",
        "\n",
        "rf = RandomForestClassifier(\n",
        "    n_estimators=100,\n",
        "    max_depth=10,\n",
        "    random_state=SEED,\n",
        "    n_jobs=-1,\n",
        "    class_weight='balanced',\n",
        "    verbose=0\n",
        ")\n",
        "rf.fit(X_train, y_train)\n",
        "\n",
        "# Feature importance\n",
        "feature_importance = pd.DataFrame({\n",
        "    'feature': X_train.columns,\n",
        "    'importance': rf.feature_importances_\n",
        "}).sort_values('importance', ascending=False)\n",
        "\n",
        "# Validation score\n",
        "val_score = rf.score(X_val, y_val)\n",
        "print(f\"\\n✅ Baseline RF Accuracy: {val_score*100:.2f}%\")\n",
        "\n"
      ],
      "metadata": {
        "colab": {
          "base_uri": "https://localhost:8080/"
        },
        "id": "ITgceK0FTZHx",
        "outputId": "db196a32-1af3-4bbe-e17c-9827a2e5a712"
      },
      "execution_count": 16,
      "outputs": [
        {
          "output_type": "stream",
          "name": "stdout",
          "text": [
            "\n",
            "======================================================================\n",
            "🔍 FEATURE IMPORTANCE ANALYSIS\n",
            "======================================================================\n",
            "Training baseline Random Forest for feature importance...\n",
            "(This may take a few minutes...)\n",
            "\n",
            "✅ Baseline RF Accuracy: 89.89%\n"
          ]
        }
      ]
    },
    {
      "cell_type": "code",
      "source": [
        "# Plot top 30\n",
        "plt.figure(figsize=(10, 12))\n",
        "top_30 = feature_importance.head(30)\n",
        "plt.barh(range(30), top_30['importance'])\n",
        "plt.yticks(range(30), top_30['feature'])\n",
        "plt.xlabel('Importance')\n",
        "plt.title('Top 30 Most Important Features')\n",
        "plt.gca().invert_yaxis()\n",
        "plt.tight_layout()\n",
        "plt.savefig(ARTIFACT_DIR / 'feature_importance.png', dpi=150, bbox_inches='tight')\n",
        "plt.show()"
      ],
      "metadata": {
        "colab": {
          "base_uri": "https://localhost:8080/",
          "height": 1000
        },
        "id": "Xcwb_EuHUA84",
        "outputId": "9b0cefc5-3542-4c88-a599-ca00cc74cab0"
      },
      "execution_count": 17,
      "outputs": [
        {
          "output_type": "display_data",
          "data": {
            "text/plain": [
              "<Figure size 1000x1200 with 1 Axes>"
            ],
            "image/png": "[encoded data removed]"
          },
          "metadata": {}
        }
      ]
    },
    {
      "cell_type": "code",
      "source": [
        "# Save full importance\n",
        "feature_importance.to_csv(ARTIFACT_DIR / \"feature_importance.csv\", index=False)\n",
        "print(f\"\\n✅ Feature importance saved!\")\n",
        "\n",
        "print(f\"\\n🏆 Top 10 Most Important Features:\")\n",
        "for idx, row in feature_importance.head(10).iterrows():\n",
        "    print(f\"   {row['feature']:<30} {row['importance']:.4f}\")"
      ],
      "metadata": {
        "colab": {
          "base_uri": "https://localhost:8080/"
        },
        "id": "8t-oT9qoWASB",
        "outputId": "526a49a5-7765-469a-e675-98885afb0d14"
      },
      "execution_count": 18,
      "outputs": [
        {
          "output_type": "stream",
          "name": "stdout",
          "text": [
            "\n",
            "✅ Feature importance saved!\n",
            "\n",
            "🏆 Top 10 Most Important Features:\n",
            "   card1_fraud_rate               0.1406\n",
            "   card2_fraud_rate               0.0469\n",
            "   V258                           0.0288\n",
            "   C5                             0.0252\n",
            "   C13                            0.0229\n",
            "   C1                             0.0212\n",
            "   V29                            0.0191\n",
            "   V264                           0.0190\n",
            "   V283                           0.0168\n",
            "   D_mean                         0.0166\n"
          ]
        }
      ]
    },
    {
      "cell_type": "code",
      "source": [
        "# Analyze temporal features in top 30\n",
        "temporal_in_top30 = [f for f in top_30['feature'] if any(x in f for x in ['hour', 'day', 'night', 'weekend', 'business'])]\n",
        "print(f\"\\n⏰ Temporal features in top 30: {len(temporal_in_top30)}\")\n",
        "if temporal_in_top30:\n",
        "    print(f\"   {', '.join(temporal_in_top30[:5])}...\")"
      ],
      "metadata": {
        "colab": {
          "base_uri": "https://localhost:8080/"
        },
        "id": "Vfw1gwpDWCFJ",
        "outputId": "516fc219-d272-45d8-c6ea-47b5bf10d4cb"
      },
      "execution_count": 19,
      "outputs": [
        {
          "output_type": "stream",
          "name": "stdout",
          "text": [
            "\n",
            "⏰ Temporal features in top 30: 0\n"
          ]
        }
      ]
    },
    {
      "cell_type": "code",
      "source": [
        "print(\"\\n\" + \"=\"*70)\n",
        "print(\"🔬 MUTUAL INFORMATION ANALYSIS\")\n",
        "print(\"=\"*70)\n",
        "\n",
        "print(\"Computing mutual information scores...\")\n",
        "print(\"(Detects non-linear relationships...)\")\n",
        "\n",
        "# Sample for faster computation (optional)\n",
        "sample_size = min(50000, len(X_train))\n",
        "X_sample = X_train.sample(n=sample_size, random_state=SEED)\n",
        "y_sample = y_train[X_sample.index]\n",
        "\n",
        "mi_scores = mutual_info_classif(X_sample, y_sample, random_state=SEED, n_jobs=-1)\n",
        "mi_scores = pd.Series(mi_scores, index=X_sample.columns).sort_values(ascending=False)"
      ],
      "metadata": {
        "colab": {
          "base_uri": "https://localhost:8080/"
        },
        "id": "Vq-Ji6SjaH1D",
        "outputId": "8b446381-f31b-4229-9932-06ee453bdf98"
      },
      "execution_count": 20,
      "outputs": [
        {
          "output_type": "stream",
          "name": "stdout",
          "text": [
            "\n",
            "======================================================================\n",
            "🔬 MUTUAL INFORMATION ANALYSIS\n",
            "======================================================================\n",
            "Computing mutual information scores...\n",
            "(Detects non-linear relationships...)\n"
          ]
        }
      ]
    },
    {
      "cell_type": "code",
      "source": [
        "# Plot top 30\n",
        "plt.figure(figsize=(10, 8))\n",
        "mi_scores.head(30).plot(kind='barh')\n",
        "plt.xlabel('Mutual Information Score')\n",
        "plt.title('Top 30 Features by Mutual Information')\n",
        "plt.gca().invert_yaxis()\n",
        "plt.tight_layout()\n",
        "plt.savefig(ARTIFACT_DIR / 'mutual_information.png', dpi=150, bbox_inches='tight')\n",
        "plt.show()"
      ],
      "metadata": {
        "colab": {
          "base_uri": "https://localhost:8080/",
          "height": 807
        },
        "id": "oxvuj0DdaYmE",
        "outputId": "1c9e5160-0db3-4f55-9358-2cada8de2637"
      },
      "execution_count": 21,
      "outputs": [
        {
          "output_type": "display_data",
          "data": {
            "text/plain": [
              "<Figure size 1000x800 with 1 Axes>"
            ],
            "image/png": "[encoded data removed]"
          },
          "metadata": {}
        }
      ]
    },
    {
      "cell_type": "code",
      "source": [
        "# Save MI scores\n",
        "mi_df = pd.DataFrame({'feature': mi_scores.index, 'mi_score': mi_scores.values})\n",
        "mi_df.to_csv(ARTIFACT_DIR / \"mutual_information_scores.csv\", index=False)\n",
        "\n",
        "print(f\"\\n✅ Mutual information analysis complete!\")\n",
        "print(f\"\\n🏆 Top 10 by MI Score:\")\n",
        "for feat, score in mi_scores.head(10).items():\n",
        "    print(f\"   {feat:<30} {score:.4f}\")"
      ],
      "metadata": {
        "colab": {
          "base_uri": "https://localhost:8080/"
        },
        "id": "jaTXuiazagTF",
        "outputId": "536a1bec-3ceb-4013-dafe-473dc8113a46"
      },
      "execution_count": 22,
      "outputs": [
        {
          "output_type": "stream",
          "name": "stdout",
          "text": [
            "\n",
            "✅ Mutual information analysis complete!\n",
            "\n",
            "🏆 Top 10 by MI Score:\n",
            "   V258                           0.0342\n",
            "   card1_fraud_rate               0.0333\n",
            "   V246                           0.0328\n",
            "   V245                           0.0270\n",
            "   V189                           0.0263\n",
            "   V200                           0.0262\n",
            "   V242                           0.0262\n",
            "   V188                           0.0239\n",
            "   V176                           0.0227\n",
            "   card1_mean_amt                 0.0218\n"
          ]
        }
      ]
    },
    {
      "cell_type": "code",
      "source": [
        "print(\"\\n\" + \"=\"*70)\n",
        "print(\"⚖️ FEATURE SCALING\")\n",
        "print(\"=\"*70)\n",
        "\n",
        "# Use RobustScaler (resistant to outliers)\n",
        "scaler = RobustScaler()\n",
        "\n",
        "# Get numeric columns\n",
        "numeric_cols = X_train.select_dtypes(include=[np.number]).columns.tolist()\n",
        "\n",
        "print(f\"Scaling {len(numeric_cols)} numeric features with RobustScaler...\")\n",
        "print(\"(RobustScaler is robust to outliers)\")\n",
        "\n",
        "# Scale train/val\n",
        "X_train_scaled = X_train.copy()\n",
        "X_val_scaled = X_val.copy()\n",
        "\n",
        "X_train_scaled[numeric_cols] = scaler.fit_transform(X_train[numeric_cols])\n",
        "X_val_scaled[numeric_cols] = scaler.transform(X_val[numeric_cols])\n",
        "\n",
        "# Scale full datasets\n",
        "X_full = X.copy()\n",
        "test_prepared = test.copy()\n",
        "\n",
        "# Drop ID columns from test if present\n",
        "if 'TransactionID' in test_prepared.columns:\n",
        "    test_ids = test_prepared['TransactionID'].copy()\n",
        "    test_prepared = test_prepared.drop(columns=['TransactionID'])\n",
        "\n",
        "# Ensure same columns\n",
        "common_cols = [c for c in X_full.columns if c in test_prepared.columns]\n",
        "X_full = X_full[common_cols]\n",
        "test_prepared = test_prepared[common_cols]\n",
        "\n",
        "# Get numeric columns for full dataset\n",
        "numeric_cols_full = X_full.select_dtypes(include=[np.number]).columns.tolist()\n",
        "\n",
        "X_full[numeric_cols_full] = scaler.fit_transform(X_full[numeric_cols_full])\n",
        "test_prepared[numeric_cols_full] = scaler.transform(test_prepared[numeric_cols_full])\n",
        "\n",
        "# Save scaler\n",
        "scaler_path = ARTIFACT_DIR / \"feature_scaler.pkl\"\n",
        "joblib.dump(scaler, scaler_path)\n",
        "print(f\"\\n✅ Scaler saved: {scaler_path}\")\n",
        "print(f\"✅ Train/val/test datasets scaled successfully!\")"
      ],
      "metadata": {
        "colab": {
          "base_uri": "https://localhost:8080/"
        },
        "id": "oeRG4ZQKbaU7",
        "outputId": "a2796d57-8894-41c3-93ce-5fbee0f7d5cc"
      },
      "execution_count": 23,
      "outputs": [
        {
          "output_type": "stream",
          "name": "stdout",
          "text": [
            "\n",
            "======================================================================\n",
            "⚖️ FEATURE SCALING\n",
            "======================================================================\n",
            "Scaling 260 numeric features with RobustScaler...\n",
            "(RobustScaler is robust to outliers)\n",
            "\n",
            "✅ Scaler saved: /content/drive/MyDrive/ML_Projects/ieee-fraud-detection/artifacts/feature_engineering/feature_scaler.pkl\n",
            "✅ Train/val/test datasets scaled successfully!\n"
          ]
        }
      ]
    },
    {
      "cell_type": "code",
      "source": [
        "print(\"\\n\" + \"=\"*70)\n",
        "print(\"💾 SAVING FEATURE-ENGINEERED DATASETS\")\n",
        "print(\"=\"*70)\n",
        "\n",
        "# Add back target and ID\n",
        "X_full['isFraud'] = train['isFraud'].values\n",
        "\n",
        "# Get TransactionID from original train\n",
        "if 'TransactionID' in train.columns:\n",
        "    X_full['TransactionID'] = train['TransactionID'].values\n",
        "\n",
        "# Add back test IDs\n",
        "if 'test_ids' in locals():\n",
        "    test_prepared['TransactionID'] = test_ids.values\n",
        "\n",
        "# Save datasets\n",
        "train_fe_path = PROCESSED_DIR / \"train_feature_engineered.csv\"\n",
        "test_fe_path = PROCESSED_DIR / \"test_feature_engineered.csv\"\n",
        "\n",
        "X_full.to_csv(train_fe_path, index=False)\n",
        "test_prepared.to_csv(test_fe_path, index=False)\n",
        "\n",
        "train_size = train_fe_path.stat().st_size / (1024 * 1024)\n",
        "test_size = test_fe_path.stat().st_size / (1024 * 1024)\n",
        "\n",
        "print(f\"\\n✅ train_feature_engineered.csv\")\n",
        "print(f\"   Path:  {train_fe_path}\")\n",
        "print(f\"   Size:  {train_size:.2f} MB\")\n",
        "print(f\"   Shape: {X_full.shape}\")\n",
        "\n",
        "print(f\"\\n✅ test_feature_engineered.csv\")\n",
        "print(f\"   Path:  {test_fe_path}\")\n",
        "print(f\"   Size:  {test_size:.2f} MB\")\n",
        "print(f\"   Shape: {test_prepared.shape}\")"
      ],
      "metadata": {
        "colab": {
          "base_uri": "https://localhost:8080/"
        },
        "id": "YTtg_u-Dbbeg",
        "outputId": "fe93d356-8f9e-45e3-fe08-34d8855d8c7b"
      },
      "execution_count": 24,
      "outputs": [
        {
          "output_type": "stream",
          "name": "stdout",
          "text": [
            "\n",
            "======================================================================\n",
            "💾 SAVING FEATURE-ENGINEERED DATASETS\n",
            "======================================================================\n",
            "\n",
            "✅ train_feature_engineered.csv\n",
            "   Path:  /content/drive/MyDrive/ML_Projects/ieee-fraud-detection/processed/train_feature_engineered.csv\n",
            "   Size:  1059.11 MB\n",
            "   Shape: (590540, 262)\n",
            "\n",
            "✅ test_feature_engineered.csv\n",
            "   Path:  /content/drive/MyDrive/ML_Projects/ieee-fraud-detection/processed/test_feature_engineered.csv\n",
            "   Size:  911.44 MB\n",
            "   Shape: (506691, 261)\n"
          ]
        }
      ]
    },
    {
      "cell_type": "code",
      "source": [
        "print(\"\\n\" + \"=\"*70)\n",
        "print(\"📋 FEATURE ENGINEERING SUMMARY REPORT\")\n",
        "print(\"=\"*70)\n",
        "\n",
        "fe_summary = {\n",
        "    \"Pipeline Version\": \"2.0 - Production Ready\",\n",
        "    \"Execution Date\": pd.Timestamp.now().strftime(\"%Y-%m-%d %H:%M:%S\"),\n",
        "\n",
        "    \"Input Data\": {\n",
        "        \"Train samples\": len(train),\n",
        "        \"Test samples\": len(test),\n",
        "        \"Original features\": 183,\n",
        "        \"Fraud rate\": f\"{train['isFraud'].mean()*100:.2f}%\"\n",
        "    },\n",
        "\n",
        "    \"Features Created\": {\n",
        "        \"Temporal features\": temporal_features,\n",
        "        \"Amount features\": amount_features,\n",
        "        \"Card aggregations\": card_features,\n",
        "        \"Email features\": email_features,\n",
        "        \"Address features\": addr_features,\n",
        "        \"Device features\": device_features,\n",
        "        \"Product features\": product_features,\n",
        "        \"Interaction features\": interaction_features,\n",
        "        \"V aggregations\": v_features,\n",
        "        \"C aggregations\": c_features,\n",
        "        \"D & M aggregations\": dm_features,\n",
        "        \"Total new features\": total_new\n",
        "    },\n",
        "\n",
        "    \"Final Dataset\": {\n",
        "        \"Total features\": X_full.shape[1] - 2,  # Exclude target & ID\n",
        "        \"Feature increase\": f\"+{total_new} ({(total_new/183*100):.1f}%)\",\n",
        "        \"Scaling method\": \"RobustScaler\",\n",
        "        \"Train shape\": list(X_full.shape),\n",
        "        \"Test shape\": list(test_prepared.shape)\n",
        "    },\n",
        "\n",
        "    \"Model Insights\": {\n",
        "        \"Baseline RF accuracy\": f\"{val_score*100:.2f}%\",\n",
        "        \"Top feature\": feature_importance.iloc[0]['feature'],\n",
        "        \"Top feature importance\": float(feature_importance.iloc[0]['importance']),\n",
        "        \"Temporal features in top 30\": len(temporal_in_top30)\n",
        "    },\n",
        "\n",
        "    \"Artifacts Generated\": {\n",
        "        \"feature_scaler.pkl\": \"Fitted RobustScaler\",\n",
        "        \"feature_importance.csv\": \"RF feature importances\",\n",
        "        \"mutual_information_scores.csv\": \"MI scores\",\n",
        "        \"feature_importance.png\": \"Visualization\",\n",
        "        \"mutual_information.png\": \"Visualization\"\n",
        "    },\n",
        "\n",
        "    \"Data Quality\": {\n",
        "        \"Missing values\": int(X_full.isna().sum().sum()),\n",
        "        \"Infinite values\": int(np.isinf(X_full.select_dtypes(include=[np.number])).sum().sum()),\n",
        "        \"Leakage check\": \"PASSED - All aggregations from train only\"\n",
        "    }\n",
        "}\n",
        "\n",
        "# Save summary\n",
        "summary_path = ARTIFACT_DIR / \"feature_engineering_summary.json\"\n",
        "with open(summary_path, \"w\") as f:\n",
        "    json.dump(fe_summary, f, indent=2)\n",
        "\n",
        "print(f\"\\n✅ Summary saved: {summary_path}\")\n",
        "\n",
        "# Print key metrics\n",
        "print(\"\\n📊 Key Metrics:\")\n",
        "print(f\"   • Original features: 183\")\n",
        "print(f\"   • New features added: {total_new}\")\n",
        "print(f\"   • Final features: {X_full.shape[1] - 2}\")\n",
        "print(f\"   • Feature increase: {(total_new/183*100):.1f}%\")\n",
        "print(f\"   • Baseline RF accuracy: {val_score*100:.2f}%\")\n",
        "print(f\"   • Top feature: {feature_importance.iloc[0]['feature']}\")"
      ],
      "metadata": {
        "colab": {
          "base_uri": "https://localhost:8080/"
        },
        "id": "YD7-ivhwgx3i",
        "outputId": "de952e66-4eec-4737-f24d-2a74dd6be521"
      },
      "execution_count": 25,
      "outputs": [
        {
          "output_type": "stream",
          "name": "stdout",
          "text": [
            "\n",
            "======================================================================\n",
            "📋 FEATURE ENGINEERING SUMMARY REPORT\n",
            "======================================================================\n",
            "\n",
            "✅ Summary saved: /content/drive/MyDrive/ML_Projects/ieee-fraud-detection/artifacts/feature_engineering/feature_engineering_summary.json\n",
            "\n",
            "📊 Key Metrics:\n",
            "   • Original features: 183\n",
            "   • New features added: 79\n",
            "   • Final features: 260\n",
            "   • Feature increase: 43.2%\n",
            "   • Baseline RF accuracy: 89.89%\n",
            "   • Top feature: card1_fraud_rate\n"
          ]
        }
      ]
    },
    {
      "cell_type": "code",
      "source": [
        "print(\"\\n\" + \"=\"*70)\n",
        "print(\"🔍 DATA QUALITY VERIFICATION\")\n",
        "print(\"=\"*70)\n",
        "\n",
        "verification = {\n",
        "    \"✅ PASSED\": [],\n",
        "    \"⚠️ WARNING\": [],\n",
        "    \"❌ FAILED\": []\n",
        "}\n",
        "\n",
        "# 1. Check for missing values\n",
        "print(\"\\n1️⃣ Missing Values Check:\")\n",
        "train_missing = X_full.isna().sum().sum()\n",
        "test_missing = test_prepared.isna().sum().sum()\n",
        "\n",
        "if train_missing == 0 and test_missing == 0:\n",
        "    print(f\"   ✅ No missing values - Train: {train_missing}, Test: {test_missing}\")\n",
        "    verification[\"✅ PASSED\"].append(\"No missing values\")\n",
        "else:\n",
        "    print(f\"   ❌ Missing values found - Train: {train_missing}, Test: {test_missing}\")\n",
        "    verification[\"❌ FAILED\"].append(f\"Missing values: train={train_missing}, test={test_missing}\")\n",
        "\n",
        "# 2. Check for infinite values\n",
        "print(\"\\n2️⃣ Infinite Values Check:\")\n",
        "train_inf = np.isinf(X_full.select_dtypes(include=[np.number])).sum().sum()\n",
        "test_inf = np.isinf(test_prepared.select_dtypes(include=[np.number])).sum().sum()\n",
        "\n",
        "if train_inf == 0 and test_inf == 0:\n",
        "    print(f\"   ✅ No infinite values - Train: {train_inf}, Test: {test_inf}\")\n",
        "    verification[\"✅ PASSED\"].append(\"No infinite values\")\n",
        "else:\n",
        "    print(f\"   ⚠️ Infinite values found - Train: {train_inf}, Test: {test_inf}\")\n",
        "    verification[\"⚠️ WARNING\"].append(f\"Infinite values: train={train_inf}, test={test_inf}\")\n",
        "\n",
        "# 3. Check feature consistency\n",
        "print(\"\\n3️⃣ Feature Consistency Check:\")\n",
        "train_cols = set(X_full.columns) - {'isFraud', 'TransactionID'}\n",
        "test_cols = set(test_prepared.columns) - {'TransactionID'}\n",
        "\n",
        "if train_cols == test_cols:\n",
        "    print(f\"   ✅ Train and test have identical {len(train_cols)} features\")\n",
        "    verification[\"✅ PASSED\"].append(\"Feature consistency maintained\")\n",
        "else:\n",
        "    print(f\"   ❌ Feature mismatch!\")\n",
        "    verification[\"❌ FAILED\"].append(\"Feature mismatch between train/test\")\n",
        "\n",
        "# 4. Check data types\n",
        "print(\"\\n4️⃣ Data Types Check:\")\n",
        "non_numeric = X_full.select_dtypes(exclude=[np.number]).columns.tolist()\n",
        "non_numeric = [c for c in non_numeric if c not in ['TransactionID', 'isFraud']]\n",
        "\n",
        "if len(non_numeric) == 0:\n",
        "    print(f\"   ✅ All features are numeric\")\n",
        "    verification[\"✅ PASSED\"].append(\"All features numeric\")\n",
        "else:\n",
        "    print(f\"   ⚠️ Non-numeric columns found: {non_numeric[:5]}\")\n",
        "    verification[\"⚠️ WARNING\"].append(f\"{len(non_numeric)} non-numeric columns\")\n",
        "\n",
        "# 5. Check target distribution\n",
        "print(\"\\n5️⃣ Target Distribution Check:\")\n",
        "fraud_rate = X_full['isFraud'].mean()\n",
        "print(f\"   Fraud rate: {fraud_rate*100:.2f}%\")\n",
        "print(f\"   Imbalance ratio: {(1-fraud_rate)/fraud_rate:.1f}:1\")\n",
        "\n",
        "if 0.01 < fraud_rate < 0.1:\n",
        "    print(f\"   ✅ Imbalanced but manageable\")\n",
        "    verification[\"✅ PASSED\"].append(\"Target distribution acceptable\")\n",
        "else:\n",
        "    print(f\"   ⚠️ Extreme imbalance - consider resampling\")\n",
        "    verification[\"⚠️ WARNING\"].append(\"Extreme class imbalance\")\n",
        "\n",
        "# 6. Verify temporal features created\n",
        "print(\"\\n6️⃣ Temporal Features Check:\")\n",
        "temporal_cols = [c for c in X_full.columns if any(x in c for x in ['hour', 'day', 'night', 'weekend'])]\n",
        "if len(temporal_cols) >= 10:\n",
        "    print(f\"   ✅ {len(temporal_cols)} temporal features created\")\n",
        "    verification[\"✅ PASSED\"].append(f\"{len(temporal_cols)} temporal features\")\n",
        "else:\n",
        "    print(f\"   ⚠️ Only {len(temporal_cols)} temporal features (expected 14+)\")\n",
        "    verification[\"⚠️ WARNING\"].append(\"Fewer temporal features than expected\")\n",
        "\n",
        "# Summary\n",
        "print(\"\\n\" + \"=\"*70)\n",
        "print(\"📊 VERIFICATION SUMMARY\")\n",
        "print(\"=\"*70)\n",
        "\n",
        "for status, checks in verification.items():\n",
        "    if checks:\n",
        "        print(f\"\\n{status}\")\n",
        "        for check in checks:\n",
        "            print(f\"   • {check}\")\n",
        "\n",
        "if len(verification[\"❌ FAILED\"]) == 0:\n",
        "    print(\"\\n\" + \"🎉\" * 35)\n",
        "    print(\"✅ ALL CRITICAL CHECKS PASSED!\")\n",
        "    print(\"🎉\" * 35)\n",
        "else:\n",
        "    print(\"\\n\" + \"⚠️\" * 35)\n",
        "    print(\"⚠️ SOME CHECKS FAILED - REVIEW ABOVE\")\n",
        "    print(\"⚠️\" * 35)"
      ],
      "metadata": {
        "colab": {
          "base_uri": "https://localhost:8080/"
        },
        "id": "xGxbLSWngzr1",
        "outputId": "3d0d51e7-db00-4fd3-cc0b-185fe014744a"
      },
      "execution_count": 26,
      "outputs": [
        {
          "output_type": "stream",
          "name": "stdout",
          "text": [
            "\n",
            "======================================================================\n",
            "🔍 DATA QUALITY VERIFICATION\n",
            "======================================================================\n",
            "\n",
            "1️⃣ Missing Values Check:\n",
            "   ✅ No missing values - Train: 0, Test: 0\n",
            "\n",
            "2️⃣ Infinite Values Check:\n",
            "   ✅ No infinite values - Train: 0, Test: 0\n",
            "\n",
            "3️⃣ Feature Consistency Check:\n",
            "   ✅ Train and test have identical 260 features\n",
            "\n",
            "4️⃣ Data Types Check:\n",
            "   ✅ All features are numeric\n",
            "\n",
            "5️⃣ Target Distribution Check:\n",
            "   Fraud rate: 3.50%\n",
            "   Imbalance ratio: 27.6:1\n",
            "   ✅ Imbalanced but manageable\n",
            "\n",
            "6️⃣ Temporal Features Check:\n",
            "   ✅ 16 temporal features created\n",
            "\n",
            "======================================================================\n",
            "📊 VERIFICATION SUMMARY\n",
            "======================================================================\n",
            "\n",
            "✅ PASSED\n",
            "   • No missing values\n",
            "   • No infinite values\n",
            "   • Feature consistency maintained\n",
            "   • All features numeric\n",
            "   • Target distribution acceptable\n",
            "   • 16 temporal features\n",
            "\n",
            "🎉🎉🎉🎉🎉🎉🎉🎉🎉🎉🎉🎉🎉🎉🎉🎉🎉🎉🎉🎉🎉🎉🎉🎉🎉🎉🎉🎉🎉🎉🎉🎉🎉🎉🎉\n",
            "✅ ALL CRITICAL CHECKS PASSED!\n",
            "🎉🎉🎉🎉🎉🎉🎉🎉🎉🎉🎉🎉🎉🎉🎉🎉🎉🎉🎉🎉🎉🎉🎉🎉🎉🎉🎉🎉🎉🎉🎉🎉🎉🎉🎉\n"
          ]
        }
      ]
    },
    {
      "cell_type": "code",
      "source": [],
      "metadata": {
        "id": "gkLqnpjDg9dX"
      },
      "execution_count": null,
      "outputs": []
    }
  ]
}
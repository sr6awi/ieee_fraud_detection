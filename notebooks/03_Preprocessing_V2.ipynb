{
  "nbformat": 4,
  "nbformat_minor": 0,
  "metadata": {
    "colab": {
      "provenance": [],
      "include_colab_link": true
    },
    "kernelspec": {
      "name": "python3",
      "display_name": "Python 3"
    },
    "language_info": {
      "name": "python"
    }
  },
  "cells": [
    {
      "cell_type": "markdown",
      "metadata": {
        "id": "view-in-github",
        "colab_type": "text"
      },
      "source": [
        "<a href=\"https://colab.research.google.com/github/sr6awi/ieee_fraud_detection/blob/main/notebooks/03_Preprocessing_V2.ipynb\" target=\"_parent\"><img src=\"https://colab.research.google.com/assets/colab-badge.svg\" alt=\"Open In Colab\"/></a>"
      ]
    },
    {
      "cell_type": "code",
      "execution_count": null,
      "metadata": {
        "colab": {
          "base_uri": "https://localhost:8080/"
        },
        "id": "xvRQ02S1SGw3",
        "outputId": "2ca08d94-a626-4d5f-b3ce-ccbaa8f2277f"
      },
      "outputs": [
        {
          "output_type": "stream",
          "name": "stdout",
          "text": [
            "✅ Configuration complete!\n",
            "📂 Data path : /content/drive/MyDrive/ML_Projects/ieee-fraud-detection/raw\n",
            "📂 Processed : /content/drive/MyDrive/ML_Projects/ieee-fraud-detection/processed\n",
            "📋 Artifacts : /content/drive/MyDrive/ML_Projects/ieee-fraud-detection/artifacts/missing_reports\n"
          ]
        }
      ],
      "source": [
        "import pandas as pd\n",
        "import numpy as np\n",
        "from pathlib import Path\n",
        "import json\n",
        "import os\n",
        "import warnings\n",
        "from sklearn.preprocessing import LabelEncoder\n",
        "from tqdm import tqdm\n",
        "\n",
        "warnings.filterwarnings('ignore')\n",
        "\n",
        "\n",
        "# === Define project paths ===\n",
        "BASE_DIR = Path(\"/content/drive/MyDrive/ML_Projects/ieee-fraud-detection\")\n",
        "DATA_DIR = BASE_DIR / \"raw\"\n",
        "PROCESSED_DIR = BASE_DIR / \"processed\"\n",
        "ARTIFACT_DIR = BASE_DIR / \"artifacts/missing_reports\"\n",
        "\n",
        "# Create directories if they don't exist\n",
        "PROCESSED_DIR.mkdir(parents=True, exist_ok=True)\n",
        "ARTIFACT_DIR.mkdir(parents=True, exist_ok=True)\n",
        "\n",
        "# === Global constants ===\n",
        "THRESHOLD = 0.80   # 80% missing threshold\n",
        "SEED = 42\n",
        "\n",
        "# === Display settings ===\n",
        "pd.set_option(\"display.max_rows\", 100)\n",
        "pd.set_option(\"display.max_columns\", 100)\n",
        "\n",
        "print(\"✅ Configuration complete!\")\n",
        "print(f\"📂 Data path : {DATA_DIR}\")\n",
        "print(f\"📂 Processed : {PROCESSED_DIR}\")\n",
        "print(f\"📋 Artifacts : {ARTIFACT_DIR}\")"
      ]
    },
    {
      "cell_type": "code",
      "source": [
        "from google.colab import drive\n",
        "drive.mount('/content/drive')"
      ],
      "metadata": {
        "colab": {
          "base_uri": "https://localhost:8080/"
        },
        "id": "gXmSO-iyUK_K",
        "outputId": "da44d11e-d4d5-45cf-ee61-60c0ad241533"
      },
      "execution_count": null,
      "outputs": [
        {
          "output_type": "stream",
          "name": "stdout",
          "text": [
            "Mounted at /content/drive\n"
          ]
        }
      ]
    },
    {
      "cell_type": "code",
      "source": [
        "# Define file paths\n",
        "PATHS = {\n",
        "    \"train_transaction\": DATA_DIR / \"train_transaction.csv\",\n",
        "    \"train_identity\":    DATA_DIR / \"train_identity.csv\",\n",
        "    \"test_transaction\":  DATA_DIR / \"test_transaction.csv\",\n",
        "    \"test_identity\":     DATA_DIR / \"test_identity.csv\",\n",
        "}\n",
        "\n",
        "# Print the paths to be checked\n",
        "print(\"Checking for files at the following paths:\")\n",
        "for name, path in PATHS.items():\n",
        "    print(f\"- {name}: {path}\")\n",
        "\n",
        "# Load datasets\n",
        "datasets = {}\n",
        "for name, path in PATHS.items():\n",
        "    if not path.exists():\n",
        "        raise FileNotFoundError(f\"❌ File not found: {path}\")\n",
        "\n",
        "    print(f\"📥 Loading {name}...\")\n",
        "    df = pd.read_csv(path, low_memory=False)\n",
        "    datasets[name] = df\n",
        "    print(f\"   → shape: {df.shape}\")\n",
        "\n",
        "print(f\"\\n✅ All {len(datasets)} datasets loaded successfully!\")\n",
        "print(f\"Total records: {sum(len(df) for df in datasets.values()):,}\")"
      ],
      "metadata": {
        "colab": {
          "base_uri": "https://localhost:8080/"
        },
        "id": "_VBWt9IRShUS",
        "outputId": "2b7993db-2c8c-423e-d0a6-7751b4e0571b"
      },
      "execution_count": null,
      "outputs": [
        {
          "output_type": "stream",
          "name": "stdout",
          "text": [
            "Checking for files at the following paths:\n",
            "- train_transaction: /content/drive/MyDrive/ML_Projects/ieee-fraud-detection/raw/train_transaction.csv\n",
            "- train_identity: /content/drive/MyDrive/ML_Projects/ieee-fraud-detection/raw/train_identity.csv\n",
            "- test_transaction: /content/drive/MyDrive/ML_Projects/ieee-fraud-detection/raw/test_transaction.csv\n",
            "- test_identity: /content/drive/MyDrive/ML_Projects/ieee-fraud-detection/raw/test_identity.csv\n",
            "📥 Loading train_transaction...\n",
            "   → shape: (590540, 394)\n",
            "📥 Loading train_identity...\n",
            "   → shape: (144233, 41)\n",
            "📥 Loading test_transaction...\n",
            "   → shape: (506691, 393)\n",
            "📥 Loading test_identity...\n",
            "   → shape: (141907, 41)\n",
            "\n",
            "✅ All 4 datasets loaded successfully!\n",
            "Total records: 1,383,371\n"
          ]
        }
      ]
    },
    {
      "cell_type": "code",
      "source": [
        "def standardize_column_names(df):\n",
        "    \"\"\"Convert all hyphenated column names to underscores\"\"\"\n",
        "    df_clean = df.copy()\n",
        "    df_clean.columns = df_clean.columns.str.replace('-', '_')\n",
        "    return df_clean\n",
        "\n",
        "# Apply standardization to all datasets\n",
        "print(\"🔧 Standardizing column names...\")\n",
        "for name, df in datasets.items():\n",
        "    old_cols = df.columns.tolist()[:5]\n",
        "    datasets[name] = standardize_column_names(df)\n",
        "    new_cols = datasets[name].columns.tolist()[:5]\n",
        "\n",
        "    if old_cols != new_cols:\n",
        "        print(f\"   {name}: Fixed column names\")\n",
        "        print(f\"      Before: {old_cols}\")\n",
        "        print(f\"      After:  {new_cols}\")\n",
        "\n",
        "print(\"\\n✅ Column names standardized!\")"
      ],
      "metadata": {
        "colab": {
          "base_uri": "https://localhost:8080/"
        },
        "id": "wjDI11O0Spu8",
        "outputId": "ffd74dbf-d676-4d86-c4db-572f06377dac"
      },
      "execution_count": null,
      "outputs": [
        {
          "output_type": "stream",
          "name": "stdout",
          "text": [
            "🔧 Standardizing column names...\n",
            "   test_identity: Fixed column names\n",
            "      Before: ['TransactionID', 'id-01', 'id-02', 'id-03', 'id-04']\n",
            "      After:  ['TransactionID', 'id_01', 'id_02', 'id_03', 'id_04']\n",
            "\n",
            "✅ Column names standardized!\n"
          ]
        }
      ]
    },
    {
      "cell_type": "code",
      "source": [
        "def compute_missing_report(df, name, threshold=THRESHOLD):\n",
        "    \"\"\"Compute missingness count and percentage for each feature\"\"\"\n",
        "    n = len(df)\n",
        "    missing_count = df.isna().sum()\n",
        "    missing_pct = (missing_count / n).round(4)\n",
        "\n",
        "    report = pd.DataFrame({\n",
        "        \"feature\": df.columns,\n",
        "        \"dtype\": df.dtypes.astype(str).values,\n",
        "        \"n_missing\": missing_count.values,\n",
        "        \"pct_missing\": missing_pct.values\n",
        "    }).sort_values(\"pct_missing\", ascending=False).reset_index(drop=True)\n",
        "\n",
        "    report[\"over_threshold\"] = report[\"pct_missing\"] > threshold\n",
        "    return report\n",
        "\n",
        "# Analyze and save reports\n",
        "columns_to_drop = {}\n",
        "\n",
        "print(\"🔍 Analyzing missing values...\\n\")\n",
        "for name, df in datasets.items():\n",
        "    print(f\"📊 {name}:\")\n",
        "    report = compute_missing_report(df, name)\n",
        "\n",
        "    # Save report\n",
        "    csv_path = ARTIFACT_DIR / f\"{name}_missing_report.csv\"\n",
        "    report.to_csv(csv_path, index=False)\n",
        "\n",
        "    # Record columns exceeding threshold\n",
        "    over = report.loc[report[\"over_threshold\"], \"feature\"].tolist()\n",
        "    columns_to_drop[name] = over\n",
        "\n",
        "    print(f\"   → Total features: {len(df.columns)}\")\n",
        "    print(f\"   → Over {int(THRESHOLD*100)}% missing: {len(over)}\")\n",
        "    print(f\"   → Report saved: {csv_path.name}\\n\")\n",
        "\n",
        "# Save summary JSON\n",
        "json_path = ARTIFACT_DIR / \"columns_over_threshold.json\"\n",
        "with open(json_path, \"w\") as f:\n",
        "    json.dump(columns_to_drop, f, indent=2)\n",
        "\n",
        "print(f\"✅ Missing value analysis complete!\")\n",
        "print(f\"📋 Summary saved to: {json_path}\")"
      ],
      "metadata": {
        "colab": {
          "base_uri": "https://localhost:8080/"
        },
        "id": "BC7XXLuPTJDV",
        "outputId": "16118a12-9877-4f48-ce28-fc5b1187fece"
      },
      "execution_count": null,
      "outputs": [
        {
          "output_type": "stream",
          "name": "stdout",
          "text": [
            "🔍 Analyzing missing values...\n",
            "\n",
            "📊 train_transaction:\n",
            "   → Total features: 394\n",
            "   → Over 80% missing: 55\n",
            "   → Report saved: train_transaction_missing_report.csv\n",
            "\n",
            "📊 train_identity:\n",
            "   → Total features: 41\n",
            "   → Over 80% missing: 9\n",
            "   → Report saved: train_identity_missing_report.csv\n",
            "\n",
            "📊 test_transaction:\n",
            "   → Total features: 393\n",
            "   → Over 80% missing: 52\n",
            "   → Report saved: test_transaction_missing_report.csv\n",
            "\n",
            "📊 test_identity:\n",
            "   → Total features: 41\n",
            "   → Over 80% missing: 9\n",
            "   → Report saved: test_identity_missing_report.csv\n",
            "\n",
            "✅ Missing value analysis complete!\n",
            "📋 Summary saved to: /content/drive/MyDrive/ML_Projects/ieee-fraud-detection/artifacts/missing_reports/columns_over_threshold.json\n"
          ]
        }
      ]
    },
    {
      "cell_type": "code",
      "source": [
        "cleaned_datasets = {}\n",
        "\n",
        "print(\"🗑️ Dropping high-missing columns...\\n\")\n",
        "for name, df in datasets.items():\n",
        "    before_shape = df.shape\n",
        "    drop_cols = columns_to_drop.get(name, [])\n",
        "\n",
        "    # Drop columns\n",
        "    df_cleaned = df.drop(columns=drop_cols, errors=\"ignore\")\n",
        "    cleaned_datasets[name] = df_cleaned\n",
        "\n",
        "    after_shape = df_cleaned.shape\n",
        "\n",
        "    print(f\"📦 {name}:\")\n",
        "    print(f\"   → Before: {before_shape}\")\n",
        "    print(f\"   → After:  {after_shape}\")\n",
        "    print(f\"   → Dropped: {len(drop_cols)} columns\\n\")\n",
        "\n",
        "# Summary table\n",
        "summary_data = []\n",
        "for name in datasets.keys():\n",
        "    summary_data.append({\n",
        "        \"dataset\": name,\n",
        "        \"original_cols\": datasets[name].shape[1],\n",
        "        \"cleaned_cols\": cleaned_datasets[name].shape[1],\n",
        "        \"dropped\": len(columns_to_drop.get(name, []))\n",
        "    })\n",
        "\n",
        "summary_df = pd.DataFrame(summary_data)\n",
        "print(\"📊 Summary:\")\n",
        "print(summary_df.to_string(index=False))\n",
        "print(\"\\n✅ Column dropping complete!\")"
      ],
      "metadata": {
        "colab": {
          "base_uri": "https://localhost:8080/"
        },
        "id": "pRclkUe8To5Q",
        "outputId": "c83c3b7b-4735-4e7a-f7d2-7b356f8754c4"
      },
      "execution_count": null,
      "outputs": [
        {
          "output_type": "stream",
          "name": "stdout",
          "text": [
            "🗑️ Dropping high-missing columns...\n",
            "\n",
            "📦 train_transaction:\n",
            "   → Before: (590540, 394)\n",
            "   → After:  (590540, 339)\n",
            "   → Dropped: 55 columns\n",
            "\n",
            "📦 train_identity:\n",
            "   → Before: (144233, 41)\n",
            "   → After:  (144233, 32)\n",
            "   → Dropped: 9 columns\n",
            "\n",
            "📦 test_transaction:\n",
            "   → Before: (506691, 393)\n",
            "   → After:  (506691, 341)\n",
            "   → Dropped: 52 columns\n",
            "\n",
            "📦 test_identity:\n",
            "   → Before: (141907, 41)\n",
            "   → After:  (141907, 32)\n",
            "   → Dropped: 9 columns\n",
            "\n",
            "📊 Summary:\n",
            "          dataset  original_cols  cleaned_cols  dropped\n",
            "train_transaction            394           339       55\n",
            "   train_identity             41            32        9\n",
            " test_transaction            393           341       52\n",
            "    test_identity             41            32        9\n",
            "\n",
            "✅ Column dropping complete!\n"
          ]
        }
      ]
    },
    {
      "cell_type": "code",
      "source": [
        "imputation_summary = {}\n",
        "\n",
        "print(\"🔢 Imputing numeric features with median...\\n\")\n",
        "\n",
        "for name, df in cleaned_datasets.items():\n",
        "    df_imputed = df.copy()\n",
        "    num_cols = df_imputed.select_dtypes(include=[np.number]).columns\n",
        "\n",
        "    summary = {}\n",
        "    filled_count = 0\n",
        "\n",
        "    for col in tqdm(num_cols, desc=f\"  {name}\", leave=False):\n",
        "        n_missing = df_imputed[col].isna().sum()\n",
        "        if n_missing > 0:\n",
        "            median_val = df_imputed[col].median()\n",
        "            df_imputed[col] = df_imputed[col].fillna(median_val)\n",
        "            summary[col] = int(n_missing)\n",
        "            filled_count += n_missing\n",
        "\n",
        "    imputation_summary[name] = {\"numeric_filled\": summary}\n",
        "    cleaned_datasets[name] = df_imputed\n",
        "\n",
        "    print(f\"✓ {name}: Filled {filled_count:,} numeric values\")\n",
        "\n",
        "print(\"\\n✅ Numeric imputation complete!\")"
      ],
      "metadata": {
        "colab": {
          "base_uri": "https://localhost:8080/"
        },
        "id": "jGfkWg9FTsgP",
        "outputId": "833e9bcb-4425-4bca-de08-d6937c6b015e"
      },
      "execution_count": null,
      "outputs": [
        {
          "output_type": "stream",
          "name": "stdout",
          "text": [
            "🔢 Imputing numeric features with median...\n",
            "\n"
          ]
        },
        {
          "output_type": "stream",
          "name": "stderr",
          "text": []
        },
        {
          "output_type": "stream",
          "name": "stdout",
          "text": [
            "✓ train_transaction: Filled 64,230,006 numeric values\n"
          ]
        },
        {
          "output_type": "stream",
          "name": "stderr",
          "text": []
        },
        {
          "output_type": "stream",
          "name": "stdout",
          "text": [
            "✓ train_identity: Filled 577,404 numeric values\n"
          ]
        },
        {
          "output_type": "stream",
          "name": "stderr",
          "text": []
        },
        {
          "output_type": "stream",
          "name": "stdout",
          "text": [
            "✓ test_transaction: Filled 48,645,858 numeric values\n"
          ]
        },
        {
          "output_type": "stream",
          "name": "stderr",
          "text": [
            "                                                       "
          ]
        },
        {
          "output_type": "stream",
          "name": "stdout",
          "text": [
            "✓ test_identity: Filled 573,019 numeric values\n",
            "\n",
            "✅ Numeric imputation complete!\n"
          ]
        },
        {
          "output_type": "stream",
          "name": "stderr",
          "text": [
            "\r"
          ]
        }
      ]
    },
    {
      "cell_type": "code",
      "source": [
        "print(\"📝 Imputing categorical features...\\n\")\n",
        "\n",
        "for name, df in cleaned_datasets.items():\n",
        "    df_imputed = df.copy()\n",
        "    cat_cols = df_imputed.select_dtypes(include=[\"object\"]).columns\n",
        "\n",
        "    cat_summary = {}\n",
        "    filled_count = 0\n",
        "\n",
        "    for col in cat_cols:\n",
        "        n_missing = df_imputed[col].isna().sum()\n",
        "        if n_missing > 0:\n",
        "            # Use mode if available, otherwise \"missing\"\n",
        "            if df_imputed[col].dropna().nunique() > 0:\n",
        "                mode_val = df_imputed[col].mode()[0]\n",
        "                df_imputed[col] = df_imputed[col].fillna(mode_val)\n",
        "            else:\n",
        "                df_imputed[col] = df_imputed[col].fillna(\"missing\")\n",
        "\n",
        "            cat_summary[col] = int(n_missing)\n",
        "            filled_count += n_missing\n",
        "\n",
        "    imputation_summary[name][\"categorical_filled\"] = cat_summary\n",
        "    cleaned_datasets[name] = df_imputed\n",
        "\n",
        "    print(f\"✓ {name}: Filled {filled_count:,} categorical values\")\n",
        "\n",
        "# Verify no missing values remain\n",
        "print(\"\\n🔍 Verification:\")\n",
        "for name, df in cleaned_datasets.items():\n",
        "    total_missing = df.isna().sum().sum()\n",
        "    print(f\"   {name}: {total_missing} missing values\")\n",
        "\n",
        "print(\"\\n✅ Categorical imputation complete!\")"
      ],
      "metadata": {
        "colab": {
          "base_uri": "https://localhost:8080/"
        },
        "id": "xh4RuU43TvUX",
        "outputId": "3aa190f1-888e-4988-9382-59c06406a25f"
      },
      "execution_count": null,
      "outputs": [
        {
          "output_type": "stream",
          "name": "stdout",
          "text": [
            "📝 Imputing categorical features...\n",
            "\n",
            "✓ train_transaction: Filled 3,204,208 categorical values\n",
            "✓ train_identity: Filled 274,624 categorical values\n",
            "✓ test_transaction: Filled 2,387,365 categorical values\n",
            "✓ test_identity: Filled 300,392 categorical values\n",
            "\n",
            "🔍 Verification:\n",
            "   train_transaction: 0 missing values\n",
            "   train_identity: 0 missing values\n",
            "   test_transaction: 0 missing values\n",
            "   test_identity: 0 missing values\n",
            "\n",
            "✅ Categorical imputation complete!\n"
          ]
        }
      ]
    },
    {
      "cell_type": "code",
      "source": [
        "print(\"💾 Saving standalone imputed datasets for crash recovery...\\n\")\n",
        "\n",
        "# Train and test transaction / identity\n",
        "imputed_to_save = {\n",
        "    \"train_transaction\": cleaned_datasets[\"train_transaction\"],\n",
        "    \"train_identity\":    cleaned_datasets[\"train_identity\"],\n",
        "    \"test_transaction\":  cleaned_datasets[\"test_transaction\"],\n",
        "    \"test_identity\":     cleaned_datasets[\"test_identity\"],\n",
        "}\n",
        "\n",
        "for name, df in imputed_to_save.items():\n",
        "    out_path = PROCESSED_DIR / f\"{name}_imputed.csv\"\n",
        "    df.to_csv(out_path, index=False)\n",
        "    size_mb = round(out_path.stat().st_size / (1024 * 1024), 2)\n",
        "    print(f\"✓ {out_path.name:<30} ({size_mb:>7.2f} MB, {df.shape[0]:,} rows × {df.shape[1]} cols)\")\n",
        "\n",
        "print(\"\\n✅ All imputed datasets saved successfully.\")"
      ],
      "metadata": {
        "colab": {
          "base_uri": "https://localhost:8080/"
        },
        "id": "7QKOILpxObFd",
        "outputId": "84ac2727-6641-4530-960c-859ac39af3d0"
      },
      "execution_count": null,
      "outputs": [
        {
          "output_type": "stream",
          "name": "stdout",
          "text": [
            "💾 Saving standalone imputed datasets for crash recovery...\n",
            "\n",
            "✓ train_transaction_imputed.csv  ( 798.52 MB, 590,540 rows × 339 cols)\n",
            "✓ train_identity_imputed.csv     (  28.35 MB, 144,233 rows × 32 cols)\n",
            "✓ test_transaction_imputed.csv   ( 692.49 MB, 506,691 rows × 341 cols)\n",
            "✓ test_identity_imputed.csv      (  27.85 MB, 141,907 rows × 32 cols)\n",
            "\n",
            "✅ All imputed datasets saved successfully.\n"
          ]
        }
      ]
    },
    {
      "cell_type": "code",
      "source": [
        "print(\"💾 Saving imputed datasets...\\n\")\n",
        "\n",
        "for name, df in cleaned_datasets.items():\n",
        "    out_path = PROCESSED_DIR / f\"{name}_imputed.csv\"\n",
        "    df.to_csv(out_path, index=False)\n",
        "\n",
        "    file_size = out_path.stat().st_size / (1024 * 1024)  # MB\n",
        "    print(f\"✓ Saved: {out_path.name}\")\n",
        "    print(f\"   Size: {file_size:.2f} MB\")\n",
        "    print(f\"   Shape: {df.shape}\\n\")\n",
        "\n",
        "# Save imputation summary\n",
        "imputation_json = ARTIFACT_DIR / \"imputation_summary.json\"\n",
        "with open(imputation_json, \"w\") as f:\n",
        "    json.dump(imputation_summary, f, indent=2)\n",
        "\n",
        "print(f\"📋 Imputation summary: {imputation_json}\")\n",
        "print(\"\\n✅ All imputed files saved successfully!\")"
      ],
      "metadata": {
        "id": "sofG6-jRTwKC",
        "colab": {
          "base_uri": "https://localhost:8080/"
        },
        "outputId": "d92ddc9d-3560-45d4-ed00-f016e73dfbc3"
      },
      "execution_count": null,
      "outputs": [
        {
          "output_type": "stream",
          "name": "stdout",
          "text": [
            "💾 Saving imputed datasets...\n",
            "\n",
            "✓ Saved: train_transaction_imputed.csv\n",
            "   Size: 798.52 MB\n",
            "   Shape: (590540, 339)\n",
            "\n",
            "✓ Saved: train_identity_imputed.csv\n",
            "   Size: 28.35 MB\n",
            "   Shape: (144233, 32)\n",
            "\n",
            "✓ Saved: test_transaction_imputed.csv\n",
            "   Size: 692.49 MB\n",
            "   Shape: (506691, 341)\n",
            "\n",
            "✓ Saved: test_identity_imputed.csv\n",
            "   Size: 27.85 MB\n",
            "   Shape: (141907, 32)\n",
            "\n",
            "📋 Imputation summary: /content/drive/MyDrive/ML_Projects/ieee-fraud-detection/artifacts/missing_reports/imputation_summary.json\n",
            "\n",
            "✅ All imputed files saved successfully!\n"
          ]
        }
      ]
    },
    {
      "cell_type": "code",
      "source": [
        "print(\"🔗 Merging transaction and identity datasets...\\n\")\n",
        "\n",
        "# Merge train datasets\n",
        "train_full = pd.merge(\n",
        "    cleaned_datasets[\"train_transaction\"],\n",
        "    cleaned_datasets[\"train_identity\"],\n",
        "    on=\"TransactionID\",\n",
        "    how=\"left\",\n",
        "    suffixes=(\"\", \"_dup\")\n",
        ")\n",
        "\n",
        "print(f\"✓ Train merge complete:\")\n",
        "print(f\"   Transaction: {cleaned_datasets['train_transaction'].shape}\")\n",
        "print(f\"   Identity:    {cleaned_datasets['train_identity'].shape}\")\n",
        "print(f\"   Merged:      {train_full.shape}\\n\")\n",
        "\n",
        "# Merge test datasets\n",
        "test_full = pd.merge(\n",
        "    cleaned_datasets[\"test_transaction\"],\n",
        "    cleaned_datasets[\"test_identity\"],\n",
        "    on=\"TransactionID\",\n",
        "    how=\"left\",\n",
        "    suffixes=(\"\", \"_dup\")\n",
        ")\n",
        "\n",
        "print(f\"✓ Test merge complete:\")\n",
        "print(f\"   Transaction: {cleaned_datasets['test_transaction'].shape}\")\n",
        "print(f\"   Identity:    {cleaned_datasets['test_identity'].shape}\")\n",
        "print(f\"   Merged:      {test_full.shape}\\n\")\n",
        "\n",
        "# Verify uniqueness\n",
        "print(\"🔍 Verification:\")\n",
        "print(f\"   Train unique IDs: {train_full['TransactionID'].is_unique}\")\n",
        "print(f\"   Test unique IDs:  {test_full['TransactionID'].is_unique}\")\n",
        "\n",
        "print(\"\\n✅ Integration complete!\")"
      ],
      "metadata": {
        "id": "RDXv7ZgYTy46",
        "colab": {
          "base_uri": "https://localhost:8080/"
        },
        "outputId": "728223fe-c430-4aaa-d9d9-9f9ff5b90ace"
      },
      "execution_count": null,
      "outputs": [
        {
          "output_type": "stream",
          "name": "stdout",
          "text": [
            "🔗 Merging transaction and identity datasets...\n",
            "\n",
            "✓ Train merge complete:\n",
            "   Transaction: (590540, 339)\n",
            "   Identity:    (144233, 32)\n",
            "   Merged:      (590540, 370)\n",
            "\n",
            "✓ Test merge complete:\n",
            "   Transaction: (506691, 341)\n",
            "   Identity:    (141907, 32)\n",
            "   Merged:      (506691, 372)\n",
            "\n",
            "🔍 Verification:\n",
            "   Train unique IDs: True\n",
            "   Test unique IDs:  True\n",
            "\n",
            "✅ Integration complete!\n"
          ]
        }
      ]
    },
    {
      "cell_type": "code",
      "source": [
        "def add_identity_flag(df):\n",
        "    \"\"\"Add binary flag indicating if transaction has identity information\"\"\"\n",
        "    id_cols = [c for c in df.columns if c.startswith(\"id_\")]\n",
        "\n",
        "    if not id_cols:\n",
        "        df[\"has_identity\"] = 0\n",
        "    else:\n",
        "        # 1 if ANY identity column has a value, 0 otherwise\n",
        "        df[\"has_identity\"] = df[id_cols].notna().any(axis=1).astype(int)\n",
        "\n",
        "    return df\n",
        "\n",
        "def fill_merge_nans(df, name):\n",
        "    \"\"\"Fill NaNs introduced by left merge\"\"\"\n",
        "    df_filled = df.copy()\n",
        "\n",
        "    # Get column types\n",
        "    num_cols = df_filled.select_dtypes(include=[np.number]).columns\n",
        "    cat_cols = df_filled.select_dtypes(exclude=[np.number]).columns\n",
        "\n",
        "    # Fill numeric with 0, categorical with \"missing\"\n",
        "    df_filled[num_cols] = df_filled[num_cols].fillna(0)\n",
        "    df_filled[cat_cols] = df_filled[cat_cols].fillna(\"missing\")\n",
        "\n",
        "    remaining = df_filled.isna().sum().sum()\n",
        "    print(f\"   {name}: {remaining} NaNs remaining after fill\")\n",
        "\n",
        "    return df_filled\n",
        "\n",
        "print(\"🏷️ Adding identity flags and filling merge-level NaNs...\\n\")\n",
        "\n",
        "# Add flags\n",
        "train_full = add_identity_flag(train_full)\n",
        "test_full = add_identity_flag(test_full)\n",
        "\n",
        "print(f\"✓ Train - has_identity: {train_full['has_identity'].sum():,} / {len(train_full):,}\")\n",
        "print(f\"✓ Test  - has_identity: {test_full['has_identity'].sum():,} / {len(test_full):,}\\n\")\n",
        "\n",
        "# Fill merge-level NaNs\n",
        "train_full = fill_merge_nans(train_full, \"train_full\")\n",
        "test_full = fill_merge_nans(test_full, \"test_full\")\n",
        "\n",
        "print(\"\\n✅ Identity flags added and merge NaNs filled!\")"
      ],
      "metadata": {
        "id": "zVCVn3ezT45N",
        "colab": {
          "base_uri": "https://localhost:8080/"
        },
        "outputId": "bbd54182-7edc-428d-bd68-75034480329e"
      },
      "execution_count": null,
      "outputs": [
        {
          "output_type": "stream",
          "name": "stdout",
          "text": [
            "🏷️ Adding identity flags and filling merge-level NaNs...\n",
            "\n",
            "✓ Train - has_identity: 144,233 / 590,540\n",
            "✓ Test  - has_identity: 141,907 / 506,691\n",
            "\n",
            "   train_full: 0 NaNs remaining after fill\n",
            "   test_full: 0 NaNs remaining after fill\n",
            "\n",
            "✅ Identity flags added and merge NaNs filled!\n"
          ]
        }
      ]
    },
    {
      "cell_type": "code",
      "source": [
        "print(\"💾 Saving integrated datasets...\\n\")\n",
        "\n",
        "# Save train\n",
        "train_path = PROCESSED_DIR / \"train_integrated.csv\"\n",
        "train_full.to_csv(train_path, index=False)\n",
        "train_size = train_path.stat().st_size / (1024 * 1024)\n",
        "\n",
        "print(f\"✓ train_integrated.csv\")\n",
        "print(f\"   Path:  {train_path}\")\n",
        "print(f\"   Size:  {train_size:.2f} MB\")\n",
        "print(f\"   Shape: {train_full.shape}\\n\")\n",
        "\n",
        "# Save test\n",
        "test_path = PROCESSED_DIR / \"test_integrated.csv\"\n",
        "test_full.to_csv(test_path, index=False)\n",
        "test_size = test_path.stat().st_size / (1024 * 1024)\n",
        "\n",
        "print(f\"✓ test_integrated.csv\")\n",
        "print(f\"   Path:  {test_path}\")\n",
        "print(f\"   Size:  {test_size:.2f} MB\")\n",
        "print(f\"   Shape: {test_full.shape}\\n\")\n",
        "\n",
        "# Summary\n",
        "print(\"📊 Integration Summary:\")\n",
        "print(f\"   Total features: {train_full.shape[1]}\")\n",
        "print(f\"   Train records:  {len(train_full):,}\")\n",
        "print(f\"   Test records:   {len(test_full):,}\")\n",
        "\n",
        "print(\"\\n✅ Integrated datasets saved successfully!\")"
      ],
      "metadata": {
        "id": "M3mmxjJRT56u",
        "colab": {
          "base_uri": "https://localhost:8080/"
        },
        "outputId": "2302dba2-0a98-4f5b-940c-9ea7cf2c4ffa"
      },
      "execution_count": null,
      "outputs": [
        {
          "output_type": "stream",
          "name": "stdout",
          "text": [
            "💾 Saving integrated datasets...\n",
            "\n",
            "✓ train_integrated.csv\n",
            "   Path:  /content/drive/MyDrive/ML_Projects/ieee-fraud-detection/processed/train_integrated.csv\n",
            "   Size:  905.21 MB\n",
            "   Shape: (590540, 371)\n",
            "\n",
            "✓ test_integrated.csv\n",
            "   Path:  /content/drive/MyDrive/ML_Projects/ieee-fraud-detection/processed/test_integrated.csv\n",
            "   Size:  784.23 MB\n",
            "   Shape: (506691, 373)\n",
            "\n",
            "📊 Integration Summary:\n",
            "   Total features: 371\n",
            "   Train records:  590,540\n",
            "   Test records:   506,691\n",
            "\n",
            "✅ Integrated datasets saved successfully!\n"
          ]
        }
      ]
    },
    {
      "cell_type": "code",
      "source": [
        "def encode_categoricals(df, name, encoding_maps=None):\n",
        "    \"\"\"\n",
        "    Encode categorical columns with proper error handling\n",
        "    Returns: (encoded_df, encoding_maps)\n",
        "    \"\"\"\n",
        "    if encoding_maps is None:\n",
        "        encoding_maps = {}\n",
        "\n",
        "    df_encoded = df.copy()\n",
        "    cat_cols = df_encoded.select_dtypes(exclude=[np.number]).columns\n",
        "\n",
        "    print(f\"\\n🔤 Encoding {len(cat_cols)} categorical columns in {name}...\")\n",
        "\n",
        "    for col in tqdm(cat_cols, desc=f\"  Encoding\", leave=False):\n",
        "        try:\n",
        "            unique_count = df_encoded[col].nunique(dropna=False)\n",
        "\n",
        "            # Low cardinality → Label Encoding\n",
        "            if unique_count <= 20:\n",
        "                le = LabelEncoder()\n",
        "                df_encoded[col] = le.fit_transform(df_encoded[col].astype(str))\n",
        "\n",
        "                encoding_maps[col] = {\n",
        "                    \"type\": \"label\",\n",
        "                    \"n_categories\": int(unique_count)\n",
        "                }\n",
        "\n",
        "            # High cardinality → Frequency Encoding\n",
        "            else:\n",
        "                freq = df_encoded[col].value_counts(dropna=False)\n",
        "                df_encoded[col] = df_encoded[col].map(freq).fillna(0).astype(int)\n",
        "\n",
        "                encoding_maps[col] = {\n",
        "                    \"type\": \"frequency\",\n",
        "                    \"n_categories\": int(unique_count)\n",
        "                }\n",
        "\n",
        "        except Exception as e:\n",
        "            print(f\"   ⚠️ Error encoding {col}: {str(e)}\")\n",
        "            continue\n",
        "\n",
        "    print(f\"✓ {name} encoding complete\")\n",
        "    return df_encoded, encoding_maps\n",
        "\n",
        "# Initialize encoding maps\n",
        "encoding_maps = {}\n",
        "\n",
        "# Encode train\n",
        "train_encoded, encoding_maps = encode_categoricals(\n",
        "    train_full,\n",
        "    \"train_full\",\n",
        "    encoding_maps\n",
        ")\n",
        "\n",
        "# Encode test\n",
        "test_encoded, encoding_maps = encode_categoricals(\n",
        "    test_full,\n",
        "    \"test_full\",\n",
        "    encoding_maps\n",
        ")\n",
        "\n",
        "print(f\"\\n✅ Categorical encoding complete!\")\n",
        "print(f\"   Encoded features: {len(encoding_maps)}\")"
      ],
      "metadata": {
        "id": "FtmYEnfuUBaz",
        "colab": {
          "base_uri": "https://localhost:8080/"
        },
        "outputId": "a26e8059-852c-42c5-a386-38b33b7e5e6f"
      },
      "execution_count": null,
      "outputs": [
        {
          "output_type": "stream",
          "name": "stdout",
          "text": [
            "\n",
            "🔤 Encoding 29 categorical columns in train_full...\n"
          ]
        },
        {
          "output_type": "stream",
          "name": "stderr",
          "text": []
        },
        {
          "output_type": "stream",
          "name": "stdout",
          "text": [
            "✓ train_full encoding complete\n",
            "\n",
            "🔤 Encoding 29 categorical columns in test_full...\n"
          ]
        },
        {
          "output_type": "stream",
          "name": "stderr",
          "text": [
            "                                                           "
          ]
        },
        {
          "output_type": "stream",
          "name": "stdout",
          "text": [
            "✓ test_full encoding complete\n",
            "\n",
            "✅ Categorical encoding complete!\n",
            "   Encoded features: 29\n"
          ]
        },
        {
          "output_type": "stream",
          "name": "stderr",
          "text": [
            "\r"
          ]
        }
      ]
    },
    {
      "cell_type": "code",
      "source": [
        "\n",
        "print(\"💾 Saving encoded datasets...\\n\")\n",
        "\n",
        "# Save train encoded\n",
        "train_enc_path = PROCESSED_DIR / \"train_encoded.csv\"\n",
        "train_encoded.to_csv(train_enc_path, index=False)\n",
        "train_enc_size = train_enc_path.stat().st_size / (1024 * 1024)\n",
        "\n",
        "print(f\"✓ train_encoded.csv\")\n",
        "print(f\"   Path:  {train_enc_path}\")\n",
        "print(f\"   Size:  {train_enc_size:.2f} MB\")\n",
        "print(f\"   Shape: {train_encoded.shape}\\n\")\n",
        "\n",
        "# Save test encoded\n",
        "test_enc_path = PROCESSED_DIR / \"test_encoded.csv\"\n",
        "test_encoded.to_csv(test_enc_path, index=False)\n",
        "test_enc_size = test_enc_path.stat().st_size / (1024 * 1024)\n",
        "\n",
        "print(f\"✓ test_encoded.csv\")\n",
        "print(f\"   Path:  {test_enc_path}\")\n",
        "print(f\"   Size:  {test_enc_size:.2f} MB\")\n",
        "print(f\"   Shape: {test_encoded.shape}\\n\")\n",
        "\n",
        "# Save encoding maps\n",
        "encoding_path = ARTIFACT_DIR / \"encoding_maps.json\"\n",
        "with open(encoding_path, \"w\") as f:\n",
        "    json.dump(encoding_maps, f, indent=2)\n",
        "\n",
        "print(f\"✓ encoding_maps.json\")\n",
        "print(f\"   Path: {encoding_path}\")\n",
        "print(f\"   Features encoded: {len(encoding_maps)}\")\n",
        "\n",
        "# Count encoding types\n",
        "label_count = sum(1 for v in encoding_maps.values() if v[\"type\"] == \"label\")\n",
        "freq_count = sum(1 for v in encoding_maps.values() if v[\"type\"] == \"frequency\")\n",
        "\n",
        "print(f\"\\n📊 Encoding Summary:\")\n",
        "print(f\"   Label encoding:     {label_count} features\")\n",
        "print(f\"   Frequency encoding: {freq_count} features\")\n",
        "\n",
        "print(\"\\n✅ All encoded files saved successfully!\")"
      ],
      "metadata": {
        "id": "5HADcCf5UCvx",
        "colab": {
          "base_uri": "https://localhost:8080/"
        },
        "outputId": "8c1b474d-62a9-4e05-f34f-276e42b4d600"
      },
      "execution_count": null,
      "outputs": [
        {
          "output_type": "stream",
          "name": "stdout",
          "text": [
            "💾 Saving encoded datasets...\n",
            "\n",
            "✓ train_encoded.csv\n",
            "   Path:  /content/drive/MyDrive/ML_Projects/ieee-fraud-detection/processed/train_encoded.csv\n",
            "   Size:  855.95 MB\n",
            "   Shape: (590540, 371)\n",
            "\n",
            "✓ test_encoded.csv\n",
            "   Path:  /content/drive/MyDrive/ML_Projects/ieee-fraud-detection/processed/test_encoded.csv\n",
            "   Size:  741.93 MB\n",
            "   Shape: (506691, 373)\n",
            "\n",
            "✓ encoding_maps.json\n",
            "   Path: /content/drive/MyDrive/ML_Projects/ieee-fraud-detection/artifacts/missing_reports/encoding_maps.json\n",
            "   Features encoded: 29\n",
            "\n",
            "📊 Encoding Summary:\n",
            "   Label encoding:     23 features\n",
            "   Frequency encoding: 6 features\n",
            "\n",
            "✅ All encoded files saved successfully!\n"
          ]
        }
      ]
    },
    {
      "cell_type": "code",
      "source": [
        "print(\"=\" * 70)\n",
        "print(\"📋 PREPROCESSING PIPELINE - FINAL VERIFICATION\")\n",
        "print(\"=\" * 70)\n",
        "\n",
        "# Check for missing values\n",
        "print(\"\\n🔍 Missing Value Check:\")\n",
        "train_missing = train_encoded.isna().sum().sum()\n",
        "test_missing = test_encoded.isna().sum().sum()\n",
        "print(f\"   Train: {train_missing} missing values\")\n",
        "print(f\"   Test:  {test_missing} missing values\")\n",
        "\n",
        "if train_missing == 0 and test_missing == 0:\n",
        "    print(\"   ✅ No missing values detected!\")\n",
        "else:\n",
        "    print(\"   ⚠️ Warning: Missing values still present\")\n",
        "\n",
        "# Check data types\n",
        "print(\"\\n📊 Data Type Distribution:\")\n",
        "train_types = train_encoded.dtypes.value_counts()\n",
        "for dtype, count in train_types.items():\n",
        "    print(f\"   {dtype}: {count} columns\")\n",
        "\n",
        "# Check for infinite values\n",
        "print(\"\\n∞ Infinite Value Check:\")\n",
        "train_inf = np.isinf(train_encoded.select_dtypes(include=[np.number])).sum().sum()\n",
        "test_inf = np.isinf(test_encoded.select_dtypes(include=[np.number])).sum().sum()\n",
        "print(f\"   Train: {train_inf} infinite values\")\n",
        "print(f\"   Test:  {test_inf} infinite values\")\n",
        "\n",
        "# Summary statistics\n",
        "print(\"\\n📈 Dataset Summary:\")\n",
        "summary_table = pd.DataFrame({\n",
        "    \"Dataset\": [\"Train\", \"Test\"],\n",
        "    \"Rows\": [len(train_encoded), len(test_encoded)],\n",
        "    \"Columns\": [train_encoded.shape[1], test_encoded.shape[1]],\n",
        "    \"Numeric\": [\n",
        "        len(train_encoded.select_dtypes(include=[np.number]).columns),\n",
        "        len(test_encoded.select_dtypes(include=[np.number]).columns)\n",
        "    ],\n",
        "    \"Target\": [\"isFraud\" in train_encoded.columns, False]\n",
        "})\n",
        "print(summary_table.to_string(index=False))\n",
        "\n",
        "# File inventory\n",
        "print(\"\\n📁 Generated Files:\")\n",
        "files_created = [\n",
        "    \"train_imputed.csv\",\n",
        "    \"test_imputed.csv\",\n",
        "    \"train_integrated.csv\",\n",
        "    \"test_integrated.csv\",\n",
        "    \"train_encoded.csv\",\n",
        "    \"test_encoded.csv\"\n",
        "]\n",
        "\n",
        "for filename in files_created:\n",
        "    filepath = PROCESSED_DIR / filename\n",
        "    if filepath.exists():\n",
        "        size = filepath.stat().st_size / (1024 * 1024)\n",
        "        print(f\"   ✓ {filename:<25} ({size:>7.2f} MB)\")\n",
        "    else:\n",
        "        print(f\"   ✗ {filename:<25} (MISSING)\")\n",
        "\n",
        "print(\"\\n\" + \"=\" * 70)\n",
        "print(\"✅ PREPROCESSING COMPLETE - DATA IS MODEL-READY!\")\n",
        "print(\"=\" * 70)\n",
        "\n",
        "print(\"\\n🎯 Next Steps:\")\n",
        "print(\"   1. Load train_encoded.csv and test_encoded.csv\")\n",
        "print(\"   2. Split train data into train/validation sets\")\n",
        "print(\"   3. Begin feature engineering or model training\")\n",
        "print(\"   4. Refer to encoding_maps.json for feature interpretations\")"
      ],
      "metadata": {
        "id": "2jiJyYb_UG9y",
        "colab": {
          "base_uri": "https://localhost:8080/"
        },
        "outputId": "fb3f9e2b-85ea-43d3-a5ea-537db807dc32"
      },
      "execution_count": null,
      "outputs": [
        {
          "output_type": "stream",
          "name": "stdout",
          "text": [
            "======================================================================\n",
            "📋 PREPROCESSING PIPELINE - FINAL VERIFICATION\n",
            "======================================================================\n",
            "\n",
            "🔍 Missing Value Check:\n",
            "   Train: 0 missing values\n",
            "   Test:  0 missing values\n",
            "   ✅ No missing values detected!\n",
            "\n",
            "📊 Data Type Distribution:\n",
            "   float64: 337 columns\n",
            "   int64: 34 columns\n",
            "\n",
            "∞ Infinite Value Check:\n",
            "   Train: 0 infinite values\n",
            "   Test:  0 infinite values\n",
            "\n",
            "📈 Dataset Summary:\n",
            "Dataset   Rows  Columns  Numeric  Target\n",
            "  Train 590540      371      371    True\n",
            "   Test 506691      373      373   False\n",
            "\n",
            "📁 Generated Files:\n",
            "   ✗ train_imputed.csv         (MISSING)\n",
            "   ✗ test_imputed.csv          (MISSING)\n",
            "   ✓ train_integrated.csv      ( 905.21 MB)\n",
            "   ✓ test_integrated.csv       ( 784.23 MB)\n",
            "   ✓ train_encoded.csv         ( 855.95 MB)\n",
            "   ✓ test_encoded.csv          ( 741.93 MB)\n",
            "\n",
            "======================================================================\n",
            "✅ PREPROCESSING COMPLETE - DATA IS MODEL-READY!\n",
            "======================================================================\n",
            "\n",
            "🎯 Next Steps:\n",
            "   1. Load train_encoded.csv and test_encoded.csv\n",
            "   2. Split train data into train/validation sets\n",
            "   3. Begin feature engineering or model training\n",
            "   4. Refer to encoding_maps.json for feature interpretations\n"
          ]
        }
      ]
    },
    {
      "cell_type": "code",
      "source": [
        "import pandas as pd\n",
        "import numpy as np\n",
        "from sklearn.feature_selection import VarianceThreshold\n",
        "import os\n",
        "\n",
        "PROCESSED_DIR = Path(\"/content/drive/MyDrive/ML_Projects/ieee-fraud-detection/processed\")\n",
        "\n",
        "train_encoded = pd.read_csv(PROCESSED_DIR / \"train_encoded.csv\")\n",
        "test_encoded  = pd.read_csv(PROCESSED_DIR / \"test_encoded.csv\")\n",
        "\n",
        "print(\"Train shape:\", train_encoded.shape)\n",
        "print(\"Test shape :\", test_encoded.shape)\n"
      ],
      "metadata": {
        "colab": {
          "base_uri": "https://localhost:8080/"
        },
        "id": "M12XhlGuMjrd",
        "outputId": "2c379186-eb3d-45e6-9925-0f31a7f62d85"
      },
      "execution_count": null,
      "outputs": [
        {
          "output_type": "stream",
          "name": "stdout",
          "text": [
            "Train shape: (590540, 371)\n",
            "Test shape : (506691, 373)\n"
          ]
        }
      ]
    },
    {
      "cell_type": "markdown",
      "source": [
        "Low-Variance Filter"
      ],
      "metadata": {
        "id": "yWJX3XWRVISy"
      }
    },
    {
      "cell_type": "code",
      "source": [
        "X = train_encoded.drop(columns=['isFraud'])\n",
        "y = train_encoded['isFraud']\n",
        "\n",
        "# Apply low-variance filter\n",
        "var_thresh = VarianceThreshold(threshold=0.01)\n",
        "X_reduced = var_thresh.fit_transform(X)\n",
        "low_var_cols = X.columns[var_thresh.get_support()]\n",
        "\n",
        "train_lowvar = pd.DataFrame(X_reduced, columns=low_var_cols)\n",
        "train_lowvar['isFraud'] = y.values\n",
        "test_lowvar = test_encoded[low_var_cols].copy()\n",
        "\n",
        "print(f\"Removed {X.shape[1] - len(low_var_cols)} low-variance features.\")\n",
        "print(f\"Train shape after low variance: {train_lowvar.shape}\")\n",
        "print(f\"Test shape after low variance : {test_lowvar.shape}\")"
      ],
      "metadata": {
        "colab": {
          "base_uri": "https://localhost:8080/"
        },
        "id": "6rPJXyI7U7AA",
        "outputId": "f0ef7b2a-272f-4bfb-e6d9-0cc870a4a47f"
      },
      "execution_count": null,
      "outputs": [
        {
          "output_type": "stream",
          "name": "stdout",
          "text": [
            "Removed 25 low-variance features.\n",
            "Train shape after low variance: (590540, 346)\n",
            "Test shape after low variance : (506691, 345)\n"
          ]
        }
      ]
    },
    {
      "cell_type": "code",
      "source": [
        "import matplotlib.pyplot as plt\n",
        "\n",
        "variances = train_encoded.drop(columns=['isFraud']).var().sort_values(ascending=False)\n",
        "\n",
        "plt.figure(figsize=(10,5))\n",
        "plt.hist(variances, bins=50, color='steelblue', edgecolor='k')\n",
        "plt.title(\"Feature Variance Distribution (Before Filtering)\")\n",
        "plt.xlabel(\"Variance\")\n",
        "plt.ylabel(\"Number of Features\")\n",
        "plt.grid(alpha=0.3)\n",
        "plt.show()\n"
      ],
      "metadata": {
        "colab": {
          "base_uri": "https://localhost:8080/",
          "height": 487
        },
        "id": "91RXyBG_Wc1f",
        "outputId": "e39dab90-0952-4288-9cb9-f298cc9d6641"
      },
      "execution_count": null,
      "outputs": [
        {
          "output_type": "display_data",
          "data": {
            "text/plain": [
              "<Figure size 1000x500 with 1 Axes>"
            ],
            "image/png": "[encoded data removed]"
          },
          "metadata": {}
        }
      ]
    },
    {
      "cell_type": "code",
      "source": [
        "before_cols = set(train_encoded.columns) - {'isFraud'}\n",
        "after_cols = set(train_lowvar.columns) - {'isFraud'}\n",
        "removed_lowvar = list(before_cols - after_cols)\n",
        "\n",
        "plt.figure(figsize=(10,3))\n",
        "plt.barh(range(len(removed_lowvar)), [train_encoded[col].var() for col in removed_lowvar], color='salmon')\n",
        "plt.title(f\"Removed Low-Variance Features ({len(removed_lowvar)})\")\n",
        "plt.xlabel(\"Variance\")\n",
        "plt.ylabel(\"Feature\")\n",
        "plt.yticks([])\n",
        "plt.show()"
      ],
      "metadata": {
        "colab": {
          "base_uri": "https://localhost:8080/",
          "height": 333
        },
        "id": "6bVkukS0W0qA",
        "outputId": "a146c1da-35e0-4dc8-a30c-61a7bea2aa21"
      },
      "execution_count": null,
      "outputs": [
        {
          "output_type": "display_data",
          "data": {
            "text/plain": [
              "<Figure size 1000x300 with 1 Axes>"
            ],
            "image/png": "[encoded data removed]"
          },
          "metadata": {}
        }
      ]
    },
    {
      "cell_type": "code",
      "source": [
        "import seaborn as sns\n",
        "\n",
        "# Select only numeric columns (excluding target)\n",
        "corr_data = train_lowvar.drop(columns=['isFraud']).corr().abs()\n",
        "\n",
        "# Get top 20 correlated pairs\n",
        "corr_unstacked = corr_data.unstack().sort_values(ascending=False)\n",
        "top_pairs = corr_unstacked[(corr_unstacked < 1.0)].head(20)\n",
        "\n",
        "# Extract unique feature names\n",
        "top_features = list(set([i for i, j in top_pairs.index] + [j for i, j in top_pairs.index]))\n",
        "plt.figure(figsize=(12,10))\n",
        "sns.heatmap(train_lowvar[top_features].corr(), cmap=\"coolwarm\", center=0, annot=False)\n",
        "plt.title(\"Top 20 Correlated Features Heatmap\")\n",
        "plt.show()"
      ],
      "metadata": {
        "colab": {
          "base_uri": "https://localhost:8080/",
          "height": 923
        },
        "id": "h8VA8-CuW6EH",
        "outputId": "fbdba8a0-b298-41ce-fa9b-109d02690d48"
      },
      "execution_count": null,
      "outputs": [
        {
          "output_type": "display_data",
          "data": {
            "text/plain": [
              "<Figure size 1200x1000 with 2 Axes>"
            ],
            "image/png": "[encoded data removed]"
          },
          "metadata": {}
        }
      ]
    },
    {
      "cell_type": "code",
      "source": [
        "import numpy as np\n",
        "import seaborn as sns\n",
        "import matplotlib.pyplot as plt\n",
        "\n",
        "# Compute correlation matrix (use your post-variance dataset)\n",
        "corr_matrix = train_lowvar.drop(columns=['isFraud']).corr().abs()\n",
        "\n",
        "# Keep only upper triangle (avoid duplicates/self-correlations)\n",
        "upper = corr_matrix.where(np.triu(np.ones(corr_matrix.shape), k=1).astype(bool))\n",
        "\n",
        "# Flatten and drop NaNs\n",
        "corr_values = upper.unstack().dropna().values\n",
        "\n",
        "# Plot histogram\n",
        "plt.figure(figsize=(8,5))\n",
        "sns.histplot(corr_values, bins=50, color='orange', kde=True)\n",
        "plt.title(\"Distribution of Pairwise Feature Correlations\")\n",
        "plt.xlabel(\"Correlation coefficient\")\n",
        "plt.ylabel(\"Number of feature pairs\")\n",
        "plt.grid(alpha=0.3)\n",
        "plt.show()\n"
      ],
      "metadata": {
        "colab": {
          "base_uri": "https://localhost:8080/",
          "height": 487
        },
        "id": "gmgLuNh5XNl5",
        "outputId": "f4d4a377-8a33-4dcb-d719-c65ec45bd167"
      },
      "execution_count": null,
      "outputs": [
        {
          "output_type": "display_data",
          "data": {
            "text/plain": [
              "<Figure size 800x500 with 1 Axes>"
            ],
            "image/png": "[encoded data removed]"
          },
          "metadata": {}
        }
      ]
    },
    {
      "cell_type": "code",
      "source": [
        "print(f\"Pairs with corr > 0.8: {(corr_values > 0.8).sum()}\")\n",
        "print(f\"Pairs with corr > 0.9: {(corr_values > 0.9).sum()}\")\n"
      ],
      "metadata": {
        "colab": {
          "base_uri": "https://localhost:8080/"
        },
        "id": "SfuEcl2CYukr",
        "outputId": "e675164c-3764-4af5-8005-f8b80d21594d"
      },
      "execution_count": null,
      "outputs": [
        {
          "output_type": "stream",
          "name": "stdout",
          "text": [
            "Pairs with corr > 0.8: 1678\n",
            "Pairs with corr > 0.9: 946\n"
          ]
        }
      ]
    },
    {
      "cell_type": "markdown",
      "source": [
        "Correlation Filtering (Feature Reduction)"
      ],
      "metadata": {
        "id": "MXDCnD68oXkc"
      }
    },
    {
      "cell_type": "code",
      "source": [
        "import numpy as np\n",
        "\n",
        "# Compute correlation matrix for numeric features\n",
        "corr_matrix = train_lowvar.drop(columns=['isFraud']).corr().abs()\n",
        "\n",
        "# Create upper triangle mask (to avoid duplicate comparisons)\n",
        "upper = corr_matrix.where(np.triu(np.ones(corr_matrix.shape), k=1).astype(bool))\n",
        "\n",
        "# Identify features with correlation > 0.9\n",
        "threshold = 0.9\n",
        "high_corr_features = [col for col in upper.columns if any(upper[col] > threshold)]\n",
        "\n",
        "# Drop them\n",
        "train_reduced = train_lowvar.drop(columns=high_corr_features)\n",
        "test_reduced  = test_lowvar.drop(columns=high_corr_features)\n",
        "\n",
        "print(f\"✅ Removed {len(high_corr_features)} highly correlated features.\")\n",
        "print(f\"Train shape after correlation filtering: {train_reduced.shape}\")\n",
        "print(f\"Test shape after correlation filtering: {test_reduced.shape}\")\n",
        "\n",
        "# Optional: show top 10 dropped columns for review\n",
        "print(\"\\nTop correlated columns removed:\")\n",
        "print(high_corr_features[:10])"
      ],
      "metadata": {
        "colab": {
          "base_uri": "https://localhost:8080/"
        },
        "id": "JSa6J5xDaozf",
        "outputId": "10bbdf0f-4f18-453c-97e1-973f866f3b1d"
      },
      "execution_count": null,
      "outputs": [
        {
          "output_type": "stream",
          "name": "stdout",
          "text": [
            "✅ Removed 164 highly correlated features.\n",
            "Train shape after correlation filtering: (590540, 182)\n",
            "Test shape after correlation filtering: (506691, 181)\n",
            "\n",
            "Top correlated columns removed:\n",
            "['TransactionDT', 'C2', 'C4', 'C6', 'C7', 'C8', 'C9', 'C10', 'C11', 'C12']\n"
          ]
        }
      ]
    },
    {
      "cell_type": "code",
      "source": [
        "from pathlib import Path\n",
        "\n",
        "PROCESSED_DIR = Path(\"/content/drive/MyDrive/ML_Projects/ieee-fraud-detection/processed\")\n",
        "\n",
        "train_reduced.to_csv(PROCESSED_DIR / \"train_reduced.csv\", index=False)\n",
        "test_reduced.to_csv(PROCESSED_DIR / \"test_reduced.csv\", index=False)\n",
        "\n",
        "print(\"✅ Final reduced datasets saved!\")\n",
        "print(f\"Train: {train_reduced.shape}\")\n",
        "print(f\"Test : {test_reduced.shape}\")"
      ],
      "metadata": {
        "colab": {
          "base_uri": "https://localhost:8080/"
        },
        "id": "iA6IAr1pohhg",
        "outputId": "8e2560fd-56ce-4972-b525-0609dfebba8b"
      },
      "execution_count": null,
      "outputs": [
        {
          "output_type": "stream",
          "name": "stdout",
          "text": [
            "✅ Final reduced datasets saved!\n",
            "Train: (590540, 182)\n",
            "Test : (506691, 181)\n"
          ]
        }
      ]
    },
    {
      "cell_type": "code",
      "source": [],
      "metadata": {
        "id": "H4MXEo4XqF3R"
      },
      "execution_count": null,
      "outputs": []
    }
  ]
}